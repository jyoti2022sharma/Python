{
 "cells": [
  {
   "cell_type": "code",
   "execution_count": 1,
   "id": "8701150c-c10e-4ee0-bb41-c4717f9b0043",
   "metadata": {},
   "outputs": [
    {
     "name": "stdout",
     "output_type": "stream",
     "text": [
      "{1, 2, 3, 5, 6, 7, 89}\n"
     ]
    }
   ],
   "source": [
    "s1 = {1,2,3,1,3,5,6,7,89,1}\n",
    "print(s1)"
   ]
  },
  {
   "cell_type": "code",
   "execution_count": 3,
   "id": "80140cfb-c532-400c-81ed-36a8b13dba4a",
   "metadata": {},
   "outputs": [
    {
     "name": "stdout",
     "output_type": "stream",
     "text": [
      "{'h', 'l', 'e', 'o'}\n"
     ]
    }
   ],
   "source": [
    "s2 = set(\"hellooooo\") # from string\n",
    "print(s2) # set can be printed in any order"
   ]
  },
  {
   "cell_type": "code",
   "execution_count": 5,
   "id": "93222224-aa83-470a-a45c-3f4a57498682",
   "metadata": {},
   "outputs": [
    {
     "name": "stdout",
     "output_type": "stream",
     "text": [
      "{1, 2, 3, 4, 5}\n"
     ]
    }
   ],
   "source": [
    "s3 = set((1,2,3,4,5)) # from tuple\n",
    "print(s3)"
   ]
  },
  {
   "cell_type": "code",
   "execution_count": 6,
   "id": "46afaf95-a1c8-4e6c-a76e-0ecff8e82d37",
   "metadata": {},
   "outputs": [
    {
     "name": "stdout",
     "output_type": "stream",
     "text": [
      "{1, 2, 5, 6, 44}\n"
     ]
    }
   ],
   "source": [
    "s4 = set([1,2,44,5,6])\n",
    "print(s4)"
   ]
  },
  {
   "cell_type": "markdown",
   "id": "953f2e7b-4b82-4f5e-8a4e-1071c6f1fced",
   "metadata": {},
   "source": [
    "# Methods in set"
   ]
  },
  {
   "cell_type": "code",
   "execution_count": 10,
   "id": "68804a2f-f97b-4c24-8a3e-02460321cdf2",
   "metadata": {},
   "outputs": [
    {
     "name": "stdout",
     "output_type": "stream",
     "text": [
      "True\n",
      "False\n"
     ]
    }
   ],
   "source": [
    "set_1 = {1,2,3}\n",
    "set_2 = {2,1,3}\n",
    "print(set_1 == set_2)\n",
    "print(set_1 is set_2)"
   ]
  },
  {
   "cell_type": "code",
   "execution_count": 12,
   "id": "db39001a-557f-4293-bee5-5a727855caf2",
   "metadata": {},
   "outputs": [
    {
     "name": "stdout",
     "output_type": "stream",
     "text": [
      "['__and__', '__class__', '__class_getitem__', '__contains__', '__delattr__', '__dir__', '__doc__', '__eq__', '__format__', '__ge__', '__getattribute__', '__getstate__', '__gt__', '__hash__', '__iand__', '__init__', '__init_subclass__', '__ior__', '__isub__', '__iter__', '__ixor__', '__le__', '__len__', '__lt__', '__ne__', '__new__', '__or__', '__rand__', '__reduce__', '__reduce_ex__', '__repr__', '__ror__', '__rsub__', '__rxor__', '__setattr__', '__sizeof__', '__str__', '__sub__', '__subclasshook__', '__xor__', 'add', 'clear', 'copy', 'difference', 'difference_update', 'discard', 'intersection', 'intersection_update', 'isdisjoint', 'issubset', 'issuperset', 'pop', 'remove', 'symmetric_difference', 'symmetric_difference_update', 'union', 'update']\n"
     ]
    }
   ],
   "source": [
    "set4 = set()\n",
    "print(dir(set4))"
   ]
  },
  {
   "cell_type": "code",
   "execution_count": 14,
   "id": "35c0b5be-43b3-4135-9b65-03a722824794",
   "metadata": {},
   "outputs": [
    {
     "name": "stdout",
     "output_type": "stream",
     "text": [
      "{1, 2, 3, 4}\n"
     ]
    }
   ],
   "source": [
    "set_1 = {1,2,3}\n",
    "set_1.add(4)\n",
    "print(set_1)"
   ]
  },
  {
   "cell_type": "code",
   "execution_count": 16,
   "id": "6f48a98a-41f4-402b-b6e1-fb33f8c5febf",
   "metadata": {},
   "outputs": [
    {
     "name": "stdout",
     "output_type": "stream",
     "text": [
      "set()\n"
     ]
    }
   ],
   "source": [
    "set_1 = {1,2,3}\n",
    "set_1.clear()\n",
    "print(set_1)"
   ]
  },
  {
   "cell_type": "code",
   "execution_count": 18,
   "id": "16be98fa-3412-439f-a5e1-476817849980",
   "metadata": {},
   "outputs": [
    {
     "name": "stdout",
     "output_type": "stream",
     "text": [
      "{2, 3}\n"
     ]
    }
   ],
   "source": [
    "set_1 = {1,2,3}\n",
    "set_1.remove(1)\n",
    "print(set_1)"
   ]
  },
  {
   "cell_type": "code",
   "execution_count": 32,
   "id": "10bfc497-63ab-44a2-a8cb-d714f9f0935d",
   "metadata": {},
   "outputs": [
    {
     "name": "stdout",
     "output_type": "stream",
     "text": [
      "{1, 3}\n"
     ]
    }
   ],
   "source": [
    "set_1 = {1,2,3}\n",
    "set_1.discard(2)\n",
    "print(set_1)"
   ]
  },
  {
   "cell_type": "code",
   "execution_count": 29,
   "id": "42ff20cd-50cb-472c-8171-86a6b23aa8f9",
   "metadata": {},
   "outputs": [
    {
     "name": "stdout",
     "output_type": "stream",
     "text": [
      "1 {2, 3}\n"
     ]
    }
   ],
   "source": [
    "set_1  = {1,2,3}\n",
    "set_2 = set_1.pop() # pop take no argumnet and remove random element from the set\n",
    "print(set_2,set_1)"
   ]
  },
  {
   "cell_type": "code",
   "execution_count": 31,
   "id": "8d43707f-9e13-4a61-8c18-9ead78f0f712",
   "metadata": {},
   "outputs": [
    {
     "name": "stdout",
     "output_type": "stream",
     "text": [
      "{1, 2, 3, 4}\n"
     ]
    }
   ],
   "source": [
    "set_1  = {1,2,3}\n",
    "set_2 = set_1.copy()\n",
    "set_2.add(4)\n",
    "print(set_2)"
   ]
  },
  {
   "cell_type": "markdown",
   "id": "906c2fed-f683-46c8-b1d8-1e5912d39392",
   "metadata": {},
   "source": [
    "# intersection (&)"
   ]
  },
  {
   "cell_type": "code",
   "execution_count": 37,
   "id": "f5a6b5e8-b616-4c86-bf3d-447f5cf3ce9f",
   "metadata": {},
   "outputs": [
    {
     "data": {
      "text/plain": [
       "{5}"
      ]
     },
     "execution_count": 37,
     "metadata": {},
     "output_type": "execute_result"
    }
   ],
   "source": [
    "set1 = {1,3,5}\n",
    "set2= {5,7,9}\n",
    "set3 = set1 & set2\n",
    "set3\n",
    "set3 = set1.intersection(set2)\n",
    "set3 # common element"
   ]
  },
  {
   "cell_type": "markdown",
   "id": "b01762bd-4a2f-4c4d-a36b-31ad60325ac6",
   "metadata": {},
   "source": [
    " # differance(-)"
   ]
  },
  {
   "cell_type": "code",
   "execution_count": 42,
   "id": "7270bab6-21a7-4e6c-9657-bd099a78b871",
   "metadata": {},
   "outputs": [
    {
     "name": "stdout",
     "output_type": "stream",
     "text": [
      "{1, 3}\n",
      "set()\n"
     ]
    }
   ],
   "source": [
    "set1 = {1,3,5}\n",
    "set2= {5,7,9}\n",
    "set3 = set1 - set2\n",
    "print(set3)\n",
    "set4 = set1.difference([1,2,3,4,5])\n",
    "print(set4)"
   ]
  },
  {
   "cell_type": "markdown",
   "id": "8114a92c-d8cc-45c6-b391-48e066e76a74",
   "metadata": {},
   "source": [
    "# symmetric_difference(^) "
   ]
  },
  {
   "cell_type": "code",
   "execution_count": 45,
   "id": "89776818-4735-4153-afda-55f8e492296c",
   "metadata": {},
   "outputs": [
    {
     "data": {
      "text/plain": [
       "{1, 3, 7, 9}"
      ]
     },
     "execution_count": 45,
     "metadata": {},
     "output_type": "execute_result"
    }
   ],
   "source": [
    "set1 = {1,3,5} \n",
    "set2= {5,7,9}\n",
    "set3 = set1 ^ set2\n",
    "set3 # excluded common element"
   ]
  },
  {
   "cell_type": "markdown",
   "id": "f113ee86-ac9e-4751-9639-19e8496f2471",
   "metadata": {},
   "source": [
    "# Union(|)"
   ]
  },
  {
   "cell_type": "code",
   "execution_count": 47,
   "id": "b564908c-e861-4a4a-b618-fea485f251b2",
   "metadata": {},
   "outputs": [
    {
     "data": {
      "text/plain": [
       "{1, 3, 5, 7, 9}"
      ]
     },
     "execution_count": 47,
     "metadata": {},
     "output_type": "execute_result"
    }
   ],
   "source": [
    "set1 = {1,3,5} \n",
    "set2= {5,7,9}\n",
    "set3 = set1 | set2\n",
    "set3"
   ]
  },
  {
   "cell_type": "code",
   "execution_count": null,
   "id": "0dbc04d7-9315-4768-a218-3dd6ca40ffbd",
   "metadata": {},
   "outputs": [],
   "source": []
  }
 ],
 "metadata": {
  "kernelspec": {
   "display_name": "Python 3 (ipykernel)",
   "language": "python",
   "name": "python3"
  },
  "language_info": {
   "codemirror_mode": {
    "name": "ipython",
    "version": 3
   },
   "file_extension": ".py",
   "mimetype": "text/x-python",
   "name": "python",
   "nbconvert_exporter": "python",
   "pygments_lexer": "ipython3",
   "version": "3.12.3"
  }
 },
 "nbformat": 4,
 "nbformat_minor": 5
}
