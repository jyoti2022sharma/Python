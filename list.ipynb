{
 "cells": [
  {
   "cell_type": "code",
   "execution_count": 1,
   "id": "e199c77b-9075-44d3-9480-083dfd4dfba7",
   "metadata": {},
   "outputs": [],
   "source": [
    "l1 = []\n",
    "l2 = list()"
   ]
  },
  {
   "cell_type": "code",
   "execution_count": 2,
   "id": "ea33bb6f-39c4-44fc-bd76-ddcad79b71bf",
   "metadata": {},
   "outputs": [
    {
     "name": "stdout",
     "output_type": "stream",
     "text": [
      "[1000, 2000, 3000, 4, 5, 6]\n"
     ]
    }
   ],
   "source": [
    "l1 = [1,2,3,4,5,6]\n",
    "l1[0:3]= 1000, 2000, 3000\n",
    "print(l1)"
   ]
  },
  {
   "cell_type": "markdown",
   "id": "5cae2492-4e1a-48bb-bb03-5c4a0d7d8ef8",
   "metadata": {},
   "source": [
    "# Adding items in list"
   ]
  },
  {
   "cell_type": "code",
   "execution_count": 3,
   "id": "885f0b7a-d507-4cc9-a480-31caef77194f",
   "metadata": {},
   "outputs": [
    {
     "data": {
      "text/plain": [
       "['echidna', 'dingo', 'crocodile', 'bunyip', 'platypus']"
      ]
     },
     "execution_count": 3,
     "metadata": {},
     "output_type": "execute_result"
    }
   ],
   "source": [
    "words = [\"echidna\", \"dingo\", \"crocodile\", \"bunyip\"]\n",
    "words.append(\"platypus\")\n",
    "words"
   ]
  },
  {
   "cell_type": "code",
   "execution_count": 16,
   "id": "474bc085-848b-4033-a0a4-06b42600f547",
   "metadata": {},
   "outputs": [
    {
     "data": {
      "text/plain": [
       "[1, 2, 3, 4, 5, 6, [7, 8, 9]]"
      ]
     },
     "execution_count": 16,
     "metadata": {},
     "output_type": "execute_result"
    }
   ],
   "source": [
    "l1 = [1,2,3,4,5,6]\n",
    "l1.append([7,8,9])\n",
    "l1 # here append method only added one item as a one list"
   ]
  },
  {
   "cell_type": "code",
   "execution_count": 17,
   "id": "e56a05d6-0170-434d-970f-94ff8289d482",
   "metadata": {},
   "outputs": [
    {
     "data": {
      "text/plain": [
       "[1, 2, 10, 3, 4, 5, 6, [7, 8, 9]]"
      ]
     },
     "execution_count": 17,
     "metadata": {},
     "output_type": "execute_result"
    }
   ],
   "source": [
    "l1.insert(2,10) #(position, number)\n",
    "l1"
   ]
  },
  {
   "cell_type": "code",
   "execution_count": 18,
   "id": "e70e90f1-520e-49e5-b91b-2fdef5c1da50",
   "metadata": {},
   "outputs": [
    {
     "data": {
      "text/plain": [
       "[1, 2, 10, 3, 4, 5, 6, [7, 8, 9], 12]"
      ]
     },
     "execution_count": 18,
     "metadata": {},
     "output_type": "execute_result"
    }
   ],
   "source": [
    "# if you want to add at last position\n",
    "l1.insert(len(l1), 12)\n",
    "l1"
   ]
  },
  {
   "cell_type": "markdown",
   "id": "8252d333-201d-4d23-b1f2-27115f64cdab",
   "metadata": {},
   "source": [
    "# If you want to add multiple items"
   ]
  },
  {
   "cell_type": "code",
   "execution_count": 5,
   "id": "71fb20d3-4c8e-41d0-baed-eaacfee6f262",
   "metadata": {},
   "outputs": [
    {
     "data": {
      "text/plain": [
       "[1, 2, 3, 4, 5, 6, 7, 8, 9]"
      ]
     },
     "execution_count": 5,
     "metadata": {},
     "output_type": "execute_result"
    }
   ],
   "source": [
    "l1 = [1,2,3,4,5,6]\n",
    "l1.extend([7,8,9])\n",
    "l1"
   ]
  },
  {
   "cell_type": "code",
   "execution_count": 6,
   "id": "08bc2837-2b01-450c-9443-cf67b18db2e3",
   "metadata": {},
   "outputs": [
    {
     "name": "stdout",
     "output_type": "stream",
     "text": [
      "[1, 2, 3, 4, 4, 5, 6]\n"
     ]
    }
   ],
   "source": [
    "start = [1,2,3,4]\n",
    "for item in [4,5,6]:\n",
    " start.append(item)\n",
    "print(start)"
   ]
  },
  {
   "cell_type": "code",
   "execution_count": null,
   "id": "12e025b5-44dc-49e0-bcea-0ebd69b1691e",
   "metadata": {},
   "outputs": [],
   "source": []
  },
  {
   "cell_type": "markdown",
   "id": "29d75cbb-9e65-4fdb-89ad-0b611bd245cf",
   "metadata": {},
   "source": [
    "# Insert"
   ]
  },
  {
   "cell_type": "code",
   "execution_count": 7,
   "id": "bdd2f64b-b257-42b6-ba9d-577fc5f2fe9f",
   "metadata": {},
   "outputs": [
    {
     "data": {
      "text/plain": [
       "[1, 2, 3, 4, 5, 6]"
      ]
     },
     "execution_count": 7,
     "metadata": {},
     "output_type": "execute_result"
    }
   ],
   "source": [
    "l1 = [1,2,3,4,6]\n",
    "l1.insert(4,5) # so here in 4 position i have added 5\n",
    "l1"
   ]
  },
  {
   "cell_type": "markdown",
   "id": "2421b899-9722-40bf-b172-9e41170caf6c",
   "metadata": {},
   "source": [
    "# Deleting items"
   ]
  },
  {
   "cell_type": "code",
   "execution_count": 8,
   "id": "fb51cdd0-7fc7-4405-b297-90132914a65b",
   "metadata": {},
   "outputs": [
    {
     "data": {
      "text/plain": [
       "[1, 2, 3, 4, 6]"
      ]
     },
     "execution_count": 8,
     "metadata": {},
     "output_type": "execute_result"
    }
   ],
   "source": [
    "l1 = [1,2,3,4,6,8]\n",
    "del l1[-1]\n",
    "l1"
   ]
  },
  {
   "cell_type": "code",
   "execution_count": 9,
   "id": "e47e069d-5130-4576-94ae-6855fceb88cf",
   "metadata": {},
   "outputs": [
    {
     "data": {
      "text/plain": [
       "[2, 3, 4, 6, 8]"
      ]
     },
     "execution_count": 9,
     "metadata": {},
     "output_type": "execute_result"
    }
   ],
   "source": [
    "l1 = [1,2,3,4,6,8]\n",
    "l1.remove(1)\n",
    "l1"
   ]
  },
  {
   "cell_type": "code",
   "execution_count": 27,
   "id": "f2b9e868-bbb1-4ac4-8d46-b1174ecfd2c3",
   "metadata": {},
   "outputs": [
    {
     "name": "stdout",
     "output_type": "stream",
     "text": [
      "[1, 2, 3, 5, 6, 8, 9]\n"
     ]
    }
   ],
   "source": [
    "# suppose i have same number 5 times in a list, and i want to remove all. Here we need to use while loop.\n",
    "l3 = [1,2,3,4,5,4,6,7,4,6,7,8,5] # here i want to remove all 4\n",
    "l3 = [1, 2, 3, 4, 5, 6, 7, 8, 9]\n",
    "\n",
    "while 4 in l3:\n",
    "    l3.remove(4)\n",
    "while 7 in l3:\n",
    "    l3.remove(7)\n",
    "\n",
    "print(l3)\n"
   ]
  },
  {
   "cell_type": "code",
   "execution_count": 28,
   "id": "7683591e-dfd4-42e8-bf40-933e31fc0fea",
   "metadata": {},
   "outputs": [
    {
     "name": "stdout",
     "output_type": "stream",
     "text": [
      "[1, 2, 3, 5, 6, 8, 9]\n"
     ]
    }
   ],
   "source": [
    "l3 = [1, 2, 3, 4, 5, 6, 7, 8, 9]\n",
    "l3 = list(filter(lambda x: x not in [4, 7], l3))\n",
    "print(l3)\n"
   ]
  },
  {
   "cell_type": "code",
   "execution_count": 29,
   "id": "33b39ac1-fb7b-4256-85d7-2eedccf57d18",
   "metadata": {},
   "outputs": [],
   "source": [
    "# lambda x: x not in [4, 7] is an anonymous function (lambda function) that takes one argument x and returns True if x is not equal to 4 or 7, and False otherwise.\n",
    "# filter() applies this lambda function to each element in the list l3.\n",
    "# The filter() function returns an iterator containing only the elements from l3 for which the lambda function returns True.\n",
    "# list() is used to convert this iterator into a list, giving you the desired result."
   ]
  },
  {
   "cell_type": "code",
   "execution_count": 20,
   "id": "b0086554-9e20-41d2-b270-a73a8d1e80df",
   "metadata": {},
   "outputs": [
    {
     "name": "stdout",
     "output_type": "stream",
     "text": [
      "[1, 2, 3, 4, 6]\n",
      "8\n"
     ]
    }
   ],
   "source": [
    "l1 = [1,2,3,4,6,8]\n",
    "l2 = l1.pop() # only pop last item\n",
    "print(l1)\n",
    "print(l2)"
   ]
  },
  {
   "cell_type": "code",
   "execution_count": 22,
   "id": "b782e5eb-033d-4047-b85d-bef633888a11",
   "metadata": {},
   "outputs": [
    {
     "data": {
      "text/plain": [
       "1"
      ]
     },
     "execution_count": 22,
     "metadata": {},
     "output_type": "execute_result"
    }
   ],
   "source": [
    "# if you want to pop first element\n",
    "l2  = l1.pop(0)\n",
    "l2"
   ]
  },
  {
   "cell_type": "code",
   "execution_count": 11,
   "id": "62f19807-2341-4749-9d7c-bf3cc4f17251",
   "metadata": {},
   "outputs": [
    {
     "data": {
      "text/plain": [
       "[]"
      ]
     },
     "execution_count": 11,
     "metadata": {},
     "output_type": "execute_result"
    }
   ],
   "source": [
    "l1 = [1,2,3,4,6,8]\n",
    "l1.clear()\n",
    "l1"
   ]
  },
  {
   "cell_type": "markdown",
   "id": "8a06422c-d739-4088-a882-c7a19c6a2a10",
   "metadata": {},
   "source": [
    "# operation in list"
   ]
  },
  {
   "cell_type": "code",
   "execution_count": 12,
   "id": "e164b052-a09c-496d-9803-17993c6eef62",
   "metadata": {},
   "outputs": [
    {
     "name": "stdout",
     "output_type": "stream",
     "text": [
      "[1, 2, 3, 4, 6, 8, 1, 2, 3, 4, 6, 8]\n",
      "[1, 2, 3, 4, 6, 8]\n"
     ]
    }
   ],
   "source": [
    "l1 = [1,2,3,4,6,8]\n",
    "l2 = l1*2\n",
    "print(l2)\n",
    "print(l1) # we took individual variable becuase multipication of 2 will not change the l1"
   ]
  },
  {
   "cell_type": "code",
   "execution_count": 13,
   "id": "96d9308f-951a-4b28-809c-e2fb20cf28d9",
   "metadata": {},
   "outputs": [
    {
     "data": {
      "text/plain": [
       "[1, 2, 3, 4, 6, 7, 8, 9, 10, 11, 12]"
      ]
     },
     "execution_count": 13,
     "metadata": {},
     "output_type": "execute_result"
    }
   ],
   "source": [
    "l1 = [1,2,3,4,6,7]\n",
    "l2 = [8,9,10,11,12]\n",
    "l1+l2"
   ]
  },
  {
   "cell_type": "code",
   "execution_count": 14,
   "id": "ad21305e-d843-4038-8a0d-97f31671cf61",
   "metadata": {},
   "outputs": [
    {
     "data": {
      "text/plain": [
       "False"
      ]
     },
     "execution_count": 14,
     "metadata": {},
     "output_type": "execute_result"
    }
   ],
   "source": [
    "l1 = [1,2,3,4,6,7,[8,9]]\n",
    "8 in l1 "
   ]
  },
  {
   "cell_type": "code",
   "execution_count": 15,
   "id": "34da6387-f7cb-4066-b0d3-39a8238c1e75",
   "metadata": {},
   "outputs": [
    {
     "data": {
      "text/plain": [
       "True"
      ]
     },
     "execution_count": 15,
     "metadata": {},
     "output_type": "execute_result"
    }
   ],
   "source": [
    "l1 = [1,2,3,4,6,7,[8,9]]\n",
    "[8,9] in l1\n"
   ]
  },
  {
   "cell_type": "code",
   "execution_count": 16,
   "id": "9d10e8c9-54d7-434e-bce7-26d6d2893c2d",
   "metadata": {},
   "outputs": [
    {
     "data": {
      "text/plain": [
       "True"
      ]
     },
     "execution_count": 16,
     "metadata": {},
     "output_type": "execute_result"
    }
   ],
   "source": [
    "list = [[[1,2,3]],[[4,5,6],[7,8,9]]]\n",
    "[4,5,6] in list[1]"
   ]
  },
  {
   "cell_type": "code",
   "execution_count": 17,
   "id": "0bf5c89a-375d-4c29-a983-6cc5eaccbf82",
   "metadata": {},
   "outputs": [
    {
     "data": {
      "text/plain": [
       "7"
      ]
     },
     "execution_count": 17,
     "metadata": {},
     "output_type": "execute_result"
    }
   ],
   "source": [
    "list = [[[1,2,3]],[[4,5,6],[7,8,9]]]\n",
    "#if you want to fetch 7 from list\n",
    "list[1][1][0]\n"
   ]
  },
  {
   "cell_type": "markdown",
   "id": "3e87c9cd-0ae6-4eed-a586-884bfa94106a",
   "metadata": {},
   "source": [
    "# List Function"
   ]
  },
  {
   "cell_type": "code",
   "execution_count": 18,
   "id": "556c082b-f9ff-493b-82f4-cfe2774810ca",
   "metadata": {},
   "outputs": [
    {
     "name": "stdout",
     "output_type": "stream",
     "text": [
      "[1, 2, 3, 4, 5, 6, 8, 9]\n",
      "[1, 2, 3, 4, 5, 6, 8, 9]\n"
     ]
    }
   ],
   "source": [
    "#len, sort, sorted\n",
    "l1 = [ 2,1,4,5,6,8,9,3]\n",
    "l2 = sorted(l1)\n",
    "print(l2)\n",
    "l1.sort() # permanent\n",
    "print(l1)"
   ]
  },
  {
   "cell_type": "code",
   "execution_count": 19,
   "id": "d12473a1-b8ce-402d-a899-680f3eafb180",
   "metadata": {},
   "outputs": [
    {
     "name": "stdout",
     "output_type": "stream",
     "text": [
      "fore\n",
      "aft\n",
      "starboard\n",
      "port\n"
     ]
    }
   ],
   "source": [
    "new_str = \"\\n\".join([\"fore\", \"aft\", \"starboard\", \"port\"])\n",
    "print(new_str)"
   ]
  },
  {
   "cell_type": "code",
   "execution_count": 1,
   "id": "323ce89f-f7b7-4023-afc7-6bb729b99e93",
   "metadata": {},
   "outputs": [
    {
     "name": "stdout",
     "output_type": "stream",
     "text": [
      "['__add__', '__class__', '__class_getitem__', '__contains__', '__delattr__', '__delitem__', '__dir__', '__doc__', '__eq__', '__format__', '__ge__', '__getattribute__', '__getitem__', '__getstate__', '__gt__', '__hash__', '__iadd__', '__imul__', '__init__', '__init_subclass__', '__iter__', '__le__', '__len__', '__lt__', '__mul__', '__ne__', '__new__', '__reduce__', '__reduce_ex__', '__repr__', '__reversed__', '__rmul__', '__setattr__', '__setitem__', '__sizeof__', '__str__', '__subclasshook__', 'append', 'clear', 'copy', 'count', 'extend', 'index', 'insert', 'pop', 'remove', 'reverse', 'sort']\n"
     ]
    }
   ],
   "source": [
    "l1 = list()\n",
    "print(dir(l1))"
   ]
  },
  {
   "cell_type": "code",
   "execution_count": 32,
   "id": "ad263fc4-02b8-4a78-9b59-9e58965d7354",
   "metadata": {},
   "outputs": [
    {
     "data": {
      "text/plain": [
       "0"
      ]
     },
     "execution_count": 32,
     "metadata": {},
     "output_type": "execute_result"
    }
   ],
   "source": [
    "# index method\n",
    "names = ['i', 'j','k', 'l','m']\n",
    "names.index('i')"
   ]
  },
  {
   "cell_type": "code",
   "execution_count": 34,
   "id": "3355db14-a32c-4499-bd1f-fbeef8c7e6c5",
   "metadata": {},
   "outputs": [
    {
     "data": {
      "text/plain": [
       "2"
      ]
     },
     "execution_count": 34,
     "metadata": {},
     "output_type": "execute_result"
    }
   ],
   "source": [
    "# count\n",
    "l3 = [1, 2, 3, 4, 5, 4,6, 7, 8, 9]\n",
    "l3.count(4)"
   ]
  },
  {
   "cell_type": "code",
   "execution_count": 45,
   "id": "f2b2166c-b17c-47d9-b5d3-8cb8666ba4a9",
   "metadata": {},
   "outputs": [
    {
     "name": "stdout",
     "output_type": "stream",
     "text": [
      "i-am-learning-python\n",
      "<class 'str'>\n"
     ]
    }
   ],
   "source": [
    "# split() and join() not list method\n",
    "str = \"i am learning python\"\n",
    "l_1 = str.split()\n",
    "l_1\n",
    "str_1 = \"-\".join(l_1)\n",
    "print(str_1)\n",
    "print(type(str_1))"
   ]
  },
  {
   "cell_type": "code",
   "execution_count": 46,
   "id": "fef030d9-6319-4d7e-ac13-8c5de23f00e0",
   "metadata": {},
   "outputs": [
    {
     "name": "stdout",
     "output_type": "stream",
     "text": [
      "[20, 40, 60, 80]\n"
     ]
    }
   ],
   "source": [
    "l1 = [10,20,30,40]\n",
    "l2 = [c*2 for c in l1]\n",
    "print(l2)"
   ]
  },
  {
   "cell_type": "code",
   "execution_count": 48,
   "id": "1f578a74-7cb2-4f28-b897-16d6de27ce65",
   "metadata": {},
   "outputs": [
    {
     "name": "stdout",
     "output_type": "stream",
     "text": [
      "['a', 'b', 'a', 'r', 'e', 'k', 'a', 'd', 'a', 'b', 'r', 'a']\n"
     ]
    }
   ],
   "source": [
    "name = 'abarekadabra'\n",
    "l4 = [char for char in name]\n",
    "print(l4)"
   ]
  },
  {
   "cell_type": "code",
   "execution_count": 51,
   "id": "c8187712-411b-4e14-930f-1e697f2c73a2",
   "metadata": {},
   "outputs": [
    {
     "data": {
      "text/plain": [
       "['LLL', 'AAA', 'DDD', 'DDD', 'OOO']"
      ]
     },
     "execution_count": 51,
     "metadata": {},
     "output_type": "execute_result"
    }
   ],
   "source": [
    "name = \"laddo\"\n",
    "l5 = [(chr*3).upper() for chr in name]\n",
    "l5"
   ]
  },
  {
   "cell_type": "code",
   "execution_count": 56,
   "id": "cb12e6e3-7b01-44b2-be6e-9d3966bc5a08",
   "metadata": {},
   "outputs": [
    {
     "data": {
      "text/plain": [
       "['Oddal', 'Oddap', 'Oddaj']"
      ]
     },
     "execution_count": 56,
     "metadata": {},
     "output_type": "execute_result"
    }
   ],
   "source": [
    "name = [\"laddo\", \"paddo\", \"jaddo\"]\n",
    "l6 = [(item[::-1]).capitalize() for item in name]\n",
    "l6"
   ]
  },
  {
   "cell_type": "markdown",
   "id": "851ed4ed-7454-4294-b444-a01fbbac4be7",
   "metadata": {},
   "source": [
    "\n"
   ]
  },
  {
   "cell_type": "code",
   "execution_count": 58,
   "id": "b71f1279-58f7-4966-a2f5-d067133127af",
   "metadata": {},
   "outputs": [
    {
     "data": {
      "text/plain": [
       "[2, 4, 6, 8, 10]"
      ]
     },
     "execution_count": 58,
     "metadata": {},
     "output_type": "execute_result"
    }
   ],
   "source": [
    "num = [1,2,3,4,5,6,7,8,9,10]\n",
    "l7 = [ num_1 for num_1 in num if num_1% 2 ==0]\n",
    "l7"
   ]
  },
  {
   "cell_type": "code",
   "execution_count": 5,
   "id": "1ef767b9-b611-4858-9bb9-8379b80e416c",
   "metadata": {},
   "outputs": [
    {
     "name": "stdout",
     "output_type": "stream",
     "text": [
      "1-2-3-4-5-6-7-8-9-10\n"
     ]
    }
   ],
   "source": [
    " # if you want to convert number to sting\n",
    "num = [1,2,3,4,5,6,7,8,9,10]\n",
    "str_num = [str(n) for n in num]\n",
    "print(\"-\".join(str_num))"
   ]
  },
  {
   "cell_type": "code",
   "execution_count": 7,
   "id": "693c71b5-d935-4168-8d55-6c746767f807",
   "metadata": {},
   "outputs": [
    {
     "data": {
      "text/plain": [
       "['aa', 'ba', 'aa', 'ba']"
      ]
     },
     "execution_count": 7,
     "metadata": {},
     "output_type": "execute_result"
    }
   ],
   "source": [
    "name_1 = [\"aa\",\"ba\",\"aa\",\"cca\", \"ba\"]\n",
    "name_2 = [\"aa\", \"ba\",\"da\",\"ea\"]\n",
    "commom_in_name_1_and_name_2 = [n for n in name_1 if n in name_2]\n",
    "commom_in_name_1_and_name_2"
   ]
  },
  {
   "cell_type": "code",
   "execution_count": 11,
   "id": "cf342c0b-7f12-4cdd-8491-cbddfa0194d0",
   "metadata": {},
   "outputs": [
    {
     "data": {
      "text/plain": [
       "['aa', 'ba']"
      ]
     },
     "execution_count": 11,
     "metadata": {},
     "output_type": "execute_result"
    }
   ],
   "source": [
    "name_1 = [\"aa\",\"ba\",\"aa\",\"cca\", \"ba\"]\n",
    "name_2 = [\"Aa\", \"Ba\",\"da\",\"ea\"]\n",
    "commom_in_name_1_and_name_2 = [n.lower() for n in name_2 if n.lower() in name_1]\n",
    "commom_in_name_1_and_name_2"
   ]
  },
  {
   "cell_type": "markdown",
   "id": "2dcb0fb9-d193-4428-b296-7ed07917227d",
   "metadata": {},
   "source": [
    "# Questions"
   ]
  },
  {
   "cell_type": "code",
   "execution_count": 21,
   "id": "3b57b9e3-6da7-4449-9925-8d096bbcac93",
   "metadata": {},
   "outputs": [
    {
     "name": "stdout",
     "output_type": "stream",
     "text": [
      "[2, 2, 3, 5, 3, 5]\n",
      "(<function <lambda> at 0x112935e40>, [2, 2, 3, 5, 3, 5])\n"
     ]
    }
   ],
   "source": [
    "#Create a Python script that removes all the occurrences of a given element of a list.\n",
    "l1 = [1, 2, 1, 1, 2, 3, 1, 5, 3, 5, 1]\n",
    "while 1 in l1:\n",
    "    l1.remove(1)\n",
    "print(l1)    \n",
    "\n",
    "#or\n",
    "\n",
    "l1 = list(filter(lambda x: x not in [1], l1))\n",
    "print(l2)\n"
   ]
  },
  {
   "cell_type": "code",
   "execution_count": 23,
   "id": "62477ddd-1179-4eab-a6de-395666ed3c8f",
   "metadata": {},
   "outputs": [
    {
     "name": "stdout",
     "output_type": "stream",
     "text": [
      "[1, 2, 3, 5]\n"
     ]
    }
   ],
   "source": [
    "#Create a Python script that removes all the elements of a list that are duplicates.\n",
    "l1 = [1, 2, 1, 1, 2, 3, 1, 5, 3, 5, 1]\n",
    "unique_list = []\n",
    "for item in l1:\n",
    "    if item not in unique_list:\n",
    "        unique_list.append(item)\n",
    "\n",
    "print(unique_list)"
   ]
  },
  {
   "cell_type": "code",
   "execution_count": 33,
   "id": "00e08150-d4a5-41e1-b3f8-d744153c88ac",
   "metadata": {},
   "outputs": [
    {
     "name": "stdout",
     "output_type": "stream",
     "text": [
      "<class 'list'>\n"
     ]
    }
   ],
   "source": [
    "# Consider the following string: nums = '10,20,30,40,50'\n",
    "# Create a Python script that creates a list of integers from the string.\n",
    "# The resulting list will be: [10, 20, 30, 40, 50]\n",
    "string_nums = '10,20,30,40,50'\n",
    "list_1 = string_nums.split()\n",
    "print(type(list_1)) "
   ]
  },
  {
   "cell_type": "code",
   "execution_count": 8,
   "id": "b89bd4af-23e2-4ccc-b118-b61e8a1e4f3a",
   "metadata": {},
   "outputs": [
    {
     "name": "stdout",
     "output_type": "stream",
     "text": [
      "Andrei is name My\n"
     ]
    }
   ],
   "source": [
    "# Write a program that prompts the user for a long string containing multiple words separated by whitespaces and prints back the same string with the words in backward order.\n",
    "# For example, say I type the string: My name is Andrei\n",
    "# Then the script should print out: Andrei is name My\n",
    "str_1 = \" My name is Andrei\"\n",
    "list_1 = str_1.split()\n",
    "list_2 = list_1[::-1]\n",
    "str_2 = \" \".join(list_2)\n",
    "print(str_2)\n"
   ]
  },
  {
   "cell_type": "code",
   "execution_count": 18,
   "id": "a15cb5f4-a5ba-4a04-a562-01c973587cb9",
   "metadata": {},
   "outputs": [
    {
     "name": "stdin",
     "output_type": "stream",
     "text": [
      "Enter a hyphen-separated string:  green-red-yellow-black-white\n"
     ]
    },
    {
     "name": "stdout",
     "output_type": "stream",
     "text": [
      "black-green-red-white-yellow\n"
     ]
    }
   ],
   "source": [
    "# Write a Python program that accepts a hyphen-separated sequence of words as input and prints the words in a hyphen-separated sequence after sorting them alphabetically.\n",
    "# Sample input string : green-red-yellow-black-white\n",
    "# Expected Result : black-green-red-white-yellow\n",
    "string = input(\"Enter a hyphen-separated string: \")\n",
    "words = string.split(\"-\")\n",
    "sorted_words = sorted(words)\n",
    "sorted_str = \"-\".join(sorted_words)\n",
    "\n",
    "print(sorted_str)"
   ]
  },
  {
   "cell_type": "code",
   "execution_count": 23,
   "id": "7ea34a2c-f468-4012-95f7-e618e078232a",
   "metadata": {},
   "outputs": [
    {
     "name": "stdin",
     "output_type": "stream",
     "text": [
      "Enter a whitesseparated string:  I love cat and dogs\n"
     ]
    },
    {
     "data": {
      "text/plain": [
       "'I evol tac dna sgod'"
      ]
     },
     "execution_count": 23,
     "metadata": {},
     "output_type": "execute_result"
    }
   ],
   "source": [
    "# Write a Python program that accepts as input a sequence of words separated by one or more whitespaces and prints out the same words with the letters in reversed order. Do not use list comprehension.\n",
    "# Sample input string: I love cat and dogs\n",
    "# Expected Result: I evol tac dna sgod\n",
    "string = input(\"Enter a whitesseparated string: \")\n",
    "words = string.split(\" \")\n",
    "rev_word = [ n[::-1] for n in words]\n",
    "\" \".join(rev_word)\n",
    "rev_word"
   ]
  },
  {
   "cell_type": "code",
   "execution_count": 38,
   "id": "192d06aa-904c-4db5-9ac0-e940d58186d1",
   "metadata": {},
   "outputs": [
    {
     "name": "stdout",
     "output_type": "stream",
     "text": [
      "[('i', 1), ('m', 6), (' ', 2), ('a', 3)]\n"
     ]
    }
   ],
   "source": [
    "# Create a Python script that calculates and displays the number of occurrences of each element of a list.\n",
    "# Sample list: list('mamma mia mm')\n",
    "# Expected Result:\n",
    "# m ---> 6\n",
    "# a ---> 3\n",
    "# ---> 2\n",
    "# i ---> 1\n",
    "sample_list = list('mamma mia mm')\n",
    "list_count = []\n",
    "for item in set(sample_list):\n",
    "    count = sample_list.count(item)\n",
    "    list_count.append((item,count))\n",
    "    \n",
    "print(list_count)"
   ]
  },
  {
   "cell_type": "code",
   "execution_count": 40,
   "id": "ddebd42d-35d1-4595-9aae-e8987f9c4a67",
   "metadata": {},
   "outputs": [
    {
     "data": {
      "text/plain": [
       "[6, 4, 3, 6, 8, 4]"
      ]
     },
     "execution_count": 40,
     "metadata": {},
     "output_type": "execute_result"
    }
   ],
   "source": [
    "# Consider a list of words(strings). Write a Python script that generates a list of tuples where the first element of the tuple is the word in the list and the second element is its length.\n",
    "# Use list comprehension if possible.\n",
    "# Sample List: words = ['Python', 'Java', 'C++', 'Golang', 'Solidity', 'Bash']\n",
    "# Expected Result: [('Python', 6), ('Java', 4), ('C++', 3), ('Golang', 6), ('Solidity', 8), ('Bash', 4)]\n",
    "Sample_List_words = ['Python', 'Java', 'C++', 'Golang', 'Solidity', 'Bash']\n",
    "Expected_Result = [len(n) for n in Sample_List_words]\n",
    "Expected_Result"
   ]
  },
  {
   "cell_type": "code",
   "execution_count": null,
   "id": "e2862ce5-2465-475d-93ff-0dc82977da15",
   "metadata": {},
   "outputs": [],
   "source": []
  }
 ],
 "metadata": {
  "kernelspec": {
   "display_name": "Python 3 (ipykernel)",
   "language": "python",
   "name": "python3"
  },
  "language_info": {
   "codemirror_mode": {
    "name": "ipython",
    "version": 3
   },
   "file_extension": ".py",
   "mimetype": "text/x-python",
   "name": "python",
   "nbconvert_exporter": "python",
   "pygments_lexer": "ipython3",
   "version": "3.12.3"
  }
 },
 "nbformat": 4,
 "nbformat_minor": 5
}
