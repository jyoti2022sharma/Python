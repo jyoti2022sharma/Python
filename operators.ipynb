{
 "cells": [
  {
   "cell_type": "code",
   "execution_count": 3,
   "id": "2852762d-302f-4c31-a38b-a92278aa5514",
   "metadata": {},
   "outputs": [],
   "source": [
    "# Boolean operators - Boolean variable is object of bool class. Which is an int subcalss"
   ]
  },
  {
   "cell_type": "code",
   "execution_count": 1,
   "id": "446e8e5a-a5ab-4635-b90b-d16ece5189c9",
   "metadata": {},
   "outputs": [
    {
     "data": {
      "text/plain": [
       "4"
      ]
     },
     "execution_count": 1,
     "metadata": {},
     "output_type": "execute_result"
    }
   ],
   "source": [
    "True + 3   # python give True as 1"
   ]
  },
  {
   "cell_type": "code",
   "execution_count": 2,
   "id": "1828c77e-455a-4331-94b2-0f56128c51fa",
   "metadata": {},
   "outputs": [
    {
     "data": {
      "text/plain": [
       "3"
      ]
     },
     "execution_count": 2,
     "metadata": {},
     "output_type": "execute_result"
    }
   ],
   "source": [
    " False + 3  ##python take false as 0"
   ]
  },
  {
   "cell_type": "code",
   "execution_count": 8,
   "id": "7d60fb14-7340-4280-8a78-c20ac7c8dbf4",
   "metadata": {},
   "outputs": [
    {
     "data": {
      "text/plain": [
       "0"
      ]
     },
     "execution_count": 8,
     "metadata": {},
     "output_type": "execute_result"
    }
   ],
   "source": [
    "100 * False"
   ]
  },
  {
   "cell_type": "code",
   "execution_count": 9,
   "id": "50341875-15b8-4aa3-a424-6e0451eaf2d5",
   "metadata": {},
   "outputs": [
    {
     "data": {
      "text/plain": [
       "200"
      ]
     },
     "execution_count": 9,
     "metadata": {},
     "output_type": "execute_result"
    }
   ],
   "source": [
    "200* True"
   ]
  },
  {
   "cell_type": "code",
   "execution_count": 10,
   "id": "d7ff7fe5-6443-4631-a542-20aab9b3f694",
   "metadata": {},
   "outputs": [
    {
     "data": {
      "text/plain": [
       "2"
      ]
     },
     "execution_count": 10,
     "metadata": {},
     "output_type": "execute_result"
    }
   ],
   "source": [
    "True + True"
   ]
  },
  {
   "cell_type": "code",
   "execution_count": 5,
   "id": "8b9c50ba-bcb6-4467-8aab-09f8e1e12131",
   "metadata": {},
   "outputs": [
    {
     "data": {
      "text/plain": [
       "True"
      ]
     },
     "execution_count": 5,
     "metadata": {},
     "output_type": "execute_result"
    }
   ],
   "source": [
    "True == 1"
   ]
  },
  {
   "cell_type": "code",
   "execution_count": 6,
   "id": "e01f25c2-f8d4-4515-97e6-ada96b664ade",
   "metadata": {},
   "outputs": [
    {
     "data": {
      "text/plain": [
       "True"
      ]
     },
     "execution_count": 6,
     "metadata": {},
     "output_type": "execute_result"
    }
   ],
   "source": [
    "False == 0"
   ]
  },
  {
   "cell_type": "code",
   "execution_count": 4,
   "id": "cf0a0371-6616-4b93-813b-7d832d528980",
   "metadata": {},
   "outputs": [
    {
     "data": {
      "text/plain": [
       "False"
      ]
     },
     "execution_count": 4,
     "metadata": {},
     "output_type": "execute_result"
    }
   ],
   "source": [
    "a = 4\n",
    "b = 5\n",
    "a>b"
   ]
  },
  {
   "cell_type": "markdown",
   "id": "50a95035-3634-47de-96ce-c2783f62e579",
   "metadata": {},
   "source": [
    "# logical operator\n",
    "### and  or not"
   ]
  },
  {
   "cell_type": "code",
   "execution_count": 11,
   "id": "7001522c-b680-4cd5-91a7-f517c16598fd",
   "metadata": {},
   "outputs": [
    {
     "data": {
      "text/plain": [
       "0"
      ]
     },
     "execution_count": 11,
     "metadata": {},
     "output_type": "execute_result"
    }
   ],
   "source": [
    "1 and 0"
   ]
  },
  {
   "cell_type": "code",
   "execution_count": 18,
   "id": "1784bfd6-3609-4b09-80d9-8720221d9e4f",
   "metadata": {},
   "outputs": [],
   "source": [
    "age = 6\n",
    "name  =  \"Sweety\""
   ]
  },
  {
   "cell_type": "code",
   "execution_count": 22,
   "id": "b77acc9d-a7c1-472f-a8dd-9f8f48156462",
   "metadata": {},
   "outputs": [
    {
     "data": {
      "text/plain": [
       "True"
      ]
     },
     "execution_count": 22,
     "metadata": {},
     "output_type": "execute_result"
    }
   ],
   "source": [
    "age > 3 and \"swee\" in name.lower()"
   ]
  },
  {
   "cell_type": "code",
   "execution_count": 12,
   "id": "0c179ca8-4158-4ab1-9d78-18c26e3705bc",
   "metadata": {},
   "outputs": [
    {
     "data": {
      "text/plain": [
       "1"
      ]
     },
     "execution_count": 12,
     "metadata": {},
     "output_type": "execute_result"
    }
   ],
   "source": [
    "1 or 0"
   ]
  },
  {
   "cell_type": "code",
   "execution_count": 23,
   "id": "21fe68ac-d1a1-4baf-9fd1-41f21296ec76",
   "metadata": {},
   "outputs": [
    {
     "data": {
      "text/plain": [
       "True"
      ]
     },
     "execution_count": 23,
     "metadata": {},
     "output_type": "execute_result"
    }
   ],
   "source": [
    "age < 3 or \"swee\" in name.lower()"
   ]
  },
  {
   "cell_type": "code",
   "execution_count": 13,
   "id": "592aba85-acc5-49f2-8147-60085119e183",
   "metadata": {},
   "outputs": [
    {
     "data": {
      "text/plain": [
       "False"
      ]
     },
     "execution_count": 13,
     "metadata": {},
     "output_type": "execute_result"
    }
   ],
   "source": [
    "not 1 # here 1, which python read as True, not change into false"
   ]
  },
  {
   "cell_type": "code",
   "execution_count": 24,
   "id": "ee04b24b-a763-40e6-b97a-b1b66449541b",
   "metadata": {},
   "outputs": [
    {
     "data": {
      "text/plain": [
       "False"
      ]
     },
     "execution_count": 24,
     "metadata": {},
     "output_type": "execute_result"
    }
   ],
   "source": [
    "not 2 == 2"
   ]
  },
  {
   "cell_type": "code",
   "execution_count": 26,
   "id": "b2f8bb44-6a99-4904-a278-ad0504dd2f45",
   "metadata": {},
   "outputs": [
    {
     "data": {
      "text/plain": [
       "False"
      ]
     },
     "execution_count": 26,
     "metadata": {},
     "output_type": "execute_result"
    }
   ],
   "source": [
    "age > 3 and not \"swee\" in name.lower()"
   ]
  },
  {
   "cell_type": "code",
   "execution_count": 27,
   "id": "6b7444cb-3d57-42ca-abf8-09752af1ed5d",
   "metadata": {},
   "outputs": [
    {
     "data": {
      "text/plain": [
       "False"
      ]
     },
     "execution_count": 27,
     "metadata": {},
     "output_type": "execute_result"
    }
   ],
   "source": [
    "not age == 6 or name.lower() ==  \"Sweety\""
   ]
  },
  {
   "cell_type": "markdown",
   "id": "6680e951-ac92-4fe2-8821-758b1d04411d",
   "metadata": {},
   "source": [
    "# bitwise operators"
   ]
  },
  {
   "cell_type": "code",
   "execution_count": 28,
   "id": "09b71860-2770-4b38-a448-7e8be66427e0",
   "metadata": {},
   "outputs": [
    {
     "data": {
      "text/plain": [
       "3"
      ]
     },
     "execution_count": 28,
     "metadata": {},
     "output_type": "execute_result"
    }
   ],
   "source": [
    "2 | 3  # this is actullay or"
   ]
  },
  {
   "cell_type": "code",
   "execution_count": 29,
   "id": "3dcde46d-7c4b-4856-95e6-89ab3523f816",
   "metadata": {},
   "outputs": [
    {
     "data": {
      "text/plain": [
       "2"
      ]
     },
     "execution_count": 29,
     "metadata": {},
     "output_type": "execute_result"
    }
   ],
   "source": [
    "2 & 3"
   ]
  },
  {
   "cell_type": "markdown",
   "id": "dc2ba730-a158-48c0-a9fc-e29becea33e7",
   "metadata": {},
   "source": [
    "# Membership Operators"
   ]
  },
  {
   "cell_type": "code",
   "execution_count": 63,
   "id": "1e4de7ff-314d-4c8b-adb5-ec200c7eaacd",
   "metadata": {},
   "outputs": [
    {
     "name": "stdout",
     "output_type": "stream",
     "text": [
      "True\n",
      "False\n"
     ]
    }
   ],
   "source": [
    "# in, not in\n",
    "\n",
    "city = \"kolkata\"\n",
    "print(\"kol\" in city)\n",
    "print(\"kol\" not in city)"
   ]
  },
  {
   "cell_type": "code",
   "execution_count": null,
   "id": "aa7a5e17-555d-4531-8e83-261a0cf8910e",
   "metadata": {},
   "outputs": [],
   "source": []
  }
 ],
 "metadata": {
  "kernelspec": {
   "display_name": "Python 3 (ipykernel)",
   "language": "python",
   "name": "python3"
  },
  "language_info": {
   "codemirror_mode": {
    "name": "ipython",
    "version": 3
   },
   "file_extension": ".py",
   "mimetype": "text/x-python",
   "name": "python",
   "nbconvert_exporter": "python",
   "pygments_lexer": "ipython3",
   "version": "3.12.3"
  }
 },
 "nbformat": 4,
 "nbformat_minor": 5
}
