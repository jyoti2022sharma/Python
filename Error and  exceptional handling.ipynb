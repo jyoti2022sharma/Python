{
 "cells": [
  {
   "cell_type": "code",
   "execution_count": 10,
   "id": "55349063-b6b2-479f-8f1d-ae9b89dbd7fa",
   "metadata": {},
   "outputs": [
    {
     "name": "stdin",
     "output_type": "stream",
     "text": [
      "type a 5\n",
      "type b 4\n"
     ]
    },
    {
     "name": "stdout",
     "output_type": "stream",
     "text": [
      "an exception has occured {TypeError(\"unsupported operand type(s) for +: 'float' and 'str'\")}\n"
     ]
    }
   ],
   "source": [
    "try:\n",
    "    a = int(input(\"type a\"))\n",
    "    b = int(input(\"type b\"))\n",
    "    c = '7'\n",
    "    d = a/b+c\n",
    "    print(d)\n",
    "except ZeroDivisionError as e:\n",
    "    print(\"an exception has ocuured\", {e})\n",
    "\n",
    "except  TypeError as e:\n",
    "    print(\"an exception has occured\", {e})\n"
   ]
  },
  {
   "cell_type": "markdown",
   "id": "24ba10d6-a298-4b9f-9257-7074de4fb3a4",
   "metadata": {},
   "source": [
    "https://docs.python.org/3/tutorial/errors.html"
   ]
  },
  {
   "cell_type": "markdown",
   "id": "930cc7da-419d-4b90-9a15-dd90a6a6da23",
   "metadata": {},
   "source": [
    "Check above for type of exception"
   ]
  },
  {
   "cell_type": "code",
   "execution_count": 11,
   "id": "9ea15b14-8290-405f-b5e0-e0392d6c3839",
   "metadata": {},
   "outputs": [
    {
     "ename": "Exception",
     "evalue": "age below 0 is not permitted",
     "output_type": "error",
     "traceback": [
      "\u001b[0;31m---------------------------------------------------------------------------\u001b[0m",
      "\u001b[0;31mException\u001b[0m                                 Traceback (most recent call last)",
      "Cell \u001b[0;32mIn[11], line 3\u001b[0m\n\u001b[1;32m      1\u001b[0m age \u001b[38;5;241m=\u001b[39m \u001b[38;5;241m-\u001b[39m\u001b[38;5;241m1\u001b[39m\n\u001b[1;32m      2\u001b[0m \u001b[38;5;28;01mif\u001b[39;00m age \u001b[38;5;241m<\u001b[39m \u001b[38;5;241m0\u001b[39m:\n\u001b[0;32m----> 3\u001b[0m     \u001b[38;5;28;01mraise\u001b[39;00m \u001b[38;5;167;01mException\u001b[39;00m (\u001b[38;5;124m\"\u001b[39m\u001b[38;5;124mage below 0 is not permitted\u001b[39m\u001b[38;5;124m\"\u001b[39m)\n",
      "\u001b[0;31mException\u001b[0m: age below 0 is not permitted"
     ]
    }
   ],
   "source": [
    "age = -1\n",
    "if age < 0:\n",
    "    raise Exception (\"age below 0 is not permitted\")"
   ]
  },
  {
   "cell_type": "code",
   "execution_count": 12,
   "id": "77b995a1-c737-46cc-be46-5926b7cec4cb",
   "metadata": {},
   "outputs": [
    {
     "name": "stdout",
     "output_type": "stream",
     "text": [
      "The file existing_file.txt does not exist.\n",
      "Finished attempting to read the file.\n",
      "The file non_existent_file.txt does not exist.\n",
      "Finished attempting to read the file.\n"
     ]
    }
   ],
   "source": [
    "def read_file(filename):\n",
    "    try:\n",
    "        with open(filename, 'r') as file:\n",
    "            print(file.read())\n",
    "    except FileNotFoundError:\n",
    "        print(f\"The file {filename} does not exist.\")\n",
    "    except PermissionError:\n",
    "        print(f\"Permission denied to read the file {filename}.\")\n",
    "    except Exception as e:\n",
    "        print(f\"An error occurred: {e}\")\n",
    "    else:\n",
    "        print(\"File read successfully.\")\n",
    "    finally:\n",
    "        print(\"Finished attempting to read the file.\")\n",
    "\n",
    "# Test the function with different scenarios\n",
    "read_file(\"existing_file.txt\")  # Assume this file exists\n",
    "read_file(\"non_existent_file.txt\")  # This file does not exist\n"
   ]
  },
  {
   "cell_type": "code",
   "execution_count": null,
   "id": "dcab186a-a5d1-4794-b81f-ce8b8dedbdb1",
   "metadata": {},
   "outputs": [],
   "source": []
  }
 ],
 "metadata": {
  "kernelspec": {
   "display_name": "Python 3 (ipykernel)",
   "language": "python",
   "name": "python3"
  },
  "language_info": {
   "codemirror_mode": {
    "name": "ipython",
    "version": 3
   },
   "file_extension": ".py",
   "mimetype": "text/x-python",
   "name": "python",
   "nbconvert_exporter": "python",
   "pygments_lexer": "ipython3",
   "version": "3.12.3"
  }
 },
 "nbformat": 4,
 "nbformat_minor": 5
}
