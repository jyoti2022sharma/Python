{
 "cells": [
  {
   "cell_type": "code",
   "execution_count": 2,
   "id": "2b66e2df-f8b2-4aeb-ad31-2f835a52709c",
   "metadata": {},
   "outputs": [
    {
     "name": "stdout",
     "output_type": "stream",
     "text": [
      "this is the function for calling you hello\n"
     ]
    }
   ],
   "source": [
    "def say_hello(name):\n",
    "    \"\"\"this is the function for calling you hello\"\"\"\n",
    "\n",
    "say_hello(\"jyoti\")\n",
    "print(say_hello.__doc__) # for reading the doc string"
   ]
  },
  {
   "cell_type": "markdown",
   "id": "733a0007-cbc5-4fd4-ad81-ba756188c553",
   "metadata": {},
   "source": [
    "# Function arguments\n",
    "1: Position Argumensts\n",
    "\n",
    "2: Keyword arguments\n",
    "\n",
    "3: Default argument\n",
    "\n",
    "4: *args\n",
    "\n",
    "5: **kwargs"
   ]
  },
  {
   "cell_type": "code",
   "execution_count": 2,
   "id": "703a8b26-b425-49a4-9af8-0099c3332a55",
   "metadata": {},
   "outputs": [
    {
     "data": {
      "text/plain": [
       "50"
      ]
     },
     "execution_count": 2,
     "metadata": {},
     "output_type": "execute_result"
    }
   ],
   "source": [
    "def function(a, b): # here a and b is function parameters\n",
    "\n",
    "    return a+b\n",
    "\n",
    "\n",
    "function(30,20)  #30 and 20 is function arguments "
   ]
  },
  {
   "cell_type": "code",
   "execution_count": 3,
   "id": "1cc3c466-948b-49b1-bb85-d67fa137202f",
   "metadata": {},
   "outputs": [
    {
     "data": {
      "text/plain": [
       "50"
      ]
     },
     "execution_count": 3,
     "metadata": {},
     "output_type": "execute_result"
    }
   ],
   "source": [
    "# Keyword arguments\n",
    "def function(a, b): \n",
    "    return a+b\n",
    "\n",
    "\n",
    "function(a=30,b=20)  "
   ]
  },
  {
   "cell_type": "code",
   "execution_count": 5,
   "id": "fe911ea2-e391-40e7-aec9-ce6c2dae4e00",
   "metadata": {},
   "outputs": [
    {
     "data": {
      "text/plain": [
       "30"
      ]
     },
     "execution_count": 5,
     "metadata": {},
     "output_type": "execute_result"
    }
   ],
   "source": [
    "# We can use keyword arguments after positional arguments, but we cannot use keyword arguments before positional arguments.\"\n",
    "def function(a, b): \n",
    "    return a+b\n",
    "\n",
    "\n",
    "function(10 ,b=20)  \n"
   ]
  },
  {
   "cell_type": "code",
   "execution_count": 6,
   "id": "e380b2e9-67b9-4c26-81ec-1fbc41cc54fa",
   "metadata": {},
   "outputs": [
    {
     "ename": "SyntaxError",
     "evalue": "positional argument follows keyword argument (4192183608.py, line 5)",
     "output_type": "error",
     "traceback": [
      "\u001b[0;36m  Cell \u001b[0;32mIn[6], line 5\u001b[0;36m\u001b[0m\n\u001b[0;31m    function(a=20, 10)\u001b[0m\n\u001b[0m                     ^\u001b[0m\n\u001b[0;31mSyntaxError\u001b[0m\u001b[0;31m:\u001b[0m positional argument follows keyword argument\n"
     ]
    }
   ],
   "source": [
    "def function(a, b): \n",
    "    return a+b\n",
    "\n",
    "\n",
    "function(a=20, 10)  "
   ]
  },
  {
   "cell_type": "code",
   "execution_count": 9,
   "id": "4ae4df0e-c5bd-481d-9254-36477e436915",
   "metadata": {},
   "outputs": [
    {
     "data": {
      "text/plain": [
       "5"
      ]
     },
     "execution_count": 9,
     "metadata": {},
     "output_type": "execute_result"
    }
   ],
   "source": [
    "# Default argument\n",
    "def add(x=2, y=3):\n",
    "    return x+y\n",
    "\n",
    "add()"
   ]
  },
  {
   "cell_type": "code",
   "execution_count": 14,
   "id": "2de1e6b6-e49a-4978-ba41-9369e1227641",
   "metadata": {},
   "outputs": [
    {
     "ename": "SyntaxError",
     "evalue": "parameter without a default follows parameter with a default (562725360.py, line 2)",
     "output_type": "error",
     "traceback": [
      "\u001b[0;36m  Cell \u001b[0;32mIn[14], line 2\u001b[0;36m\u001b[0m\n\u001b[0;31m    def add(x=2, y=3, z):\u001b[0m\n\u001b[0m                      ^\u001b[0m\n\u001b[0;31mSyntaxError\u001b[0m\u001b[0;31m:\u001b[0m parameter without a default follows parameter with a default\n"
     ]
    }
   ],
   "source": [
    "# if we have one more parameter after default paramerter, it should also have defult argumnet, we can keep this as positional.\n",
    "def add(x=2, y=3, z):\n",
    "    return x+y+z\n",
    "\n",
    "add(3)"
   ]
  },
  {
   "cell_type": "code",
   "execution_count": 13,
   "id": "1f43f191-dd4b-4985-9f51-c1d1db3deb86",
   "metadata": {},
   "outputs": [
    {
     "data": {
      "text/plain": [
       "11"
      ]
     },
     "execution_count": 13,
     "metadata": {},
     "output_type": "execute_result"
    }
   ],
   "source": [
    "def add(x, y=3, z=5):\n",
    "    return x+y+z\n",
    "\n",
    "add(3)"
   ]
  },
  {
   "cell_type": "code",
   "execution_count": 18,
   "id": "b01b7532-1ef4-4fed-a07a-a5acdd4d7f67",
   "metadata": {},
   "outputs": [
    {
     "data": {
      "text/plain": [
       "(5, 10, 25, 125)"
      ]
     },
     "execution_count": 18,
     "metadata": {},
     "output_type": "execute_result"
    }
   ],
   "source": [
    "# if we get more than one return then it is tuple.\n",
    "def my_fun(x):\n",
    "    return x, x*2, x**2, x**3\n",
    "\n",
    "my_fun(5)\n"
   ]
  },
  {
   "cell_type": "code",
   "execution_count": 20,
   "id": "0829cc8b-b098-4e62-a7e9-33099a7634ee",
   "metadata": {},
   "outputs": [
    {
     "name": "stdout",
     "output_type": "stream",
     "text": [
      "5 10 25 125\n"
     ]
    }
   ],
   "source": [
    "# we can unpack \n",
    "def my_fun(x):\n",
    "    return x, x*2, x**2, x**3\n",
    "\n",
    "my_fun(5)\n",
    "\n",
    "a,b,c,d = my_fun(5)\n",
    "print(a,b,c,d)"
   ]
  },
  {
   "cell_type": "markdown",
   "id": "9d8e62c7-ce4c-4158-96f5-15720ae4f3ab",
   "metadata": {},
   "source": [
    "# args"
   ]
  },
  {
   "cell_type": "markdown",
   "id": "ea954d35-507e-4090-8a8c-4c24f6868645",
   "metadata": {},
   "source": [
    "if we want to use more than one parameter, than we will not write like this x,y,x...and so on, simply use *args and give as much arguments you want to use"
   ]
  },
  {
   "cell_type": "code",
   "execution_count": 24,
   "id": "43d72343-e2ee-46eb-9bbe-589ac42729a8",
   "metadata": {},
   "outputs": [
    {
     "data": {
      "text/plain": [
       "5.0"
      ]
     },
     "execution_count": 24,
     "metadata": {},
     "output_type": "execute_result"
    }
   ],
   "source": [
    "def my_fun(x,y, *args):\n",
    "    return (x+y+sum(args))/ (2 + len(args))\n",
    "\n",
    "my_fun(2,3,4,5,6,7,8)"
   ]
  },
  {
   "cell_type": "code",
   "execution_count": 33,
   "id": "763453af-b095-4fbf-b70e-3e85dd86afdb",
   "metadata": {},
   "outputs": [
    {
     "data": {
      "text/plain": [
       "'ilovepthon'"
      ]
     },
     "execution_count": 33,
     "metadata": {},
     "output_type": "execute_result"
    }
   ],
   "source": [
    "def concat(*args): # args is tuple so we can iterate over it\n",
    "    result = \"\"\n",
    "    for i in args:\n",
    "        result = result + i\n",
    "    return result   \n",
    "\n",
    "concat(\"i\", \"love\", \"pthon\")"
   ]
  },
  {
   "cell_type": "markdown",
   "id": "d4ff7e68-9d11-4220-8d5c-4f12610c260e",
   "metadata": {},
   "source": [
    "# **kwargs - variable length argument"
   ]
  },
  {
   "cell_type": "code",
   "execution_count": 43,
   "id": "e2728e0d-d375-443f-88f6-16717bbf8809",
   "metadata": {},
   "outputs": [
    {
     "name": "stdout",
     "output_type": "stream",
     "text": [
      "name x\n",
      "age 10\n",
      "location z\n"
     ]
    }
   ],
   "source": [
    "def my_fun(**kwargs):# kwarg is dictionary, so i can iterate over it\n",
    "    for k, v in kwargs.items():\n",
    "        print(k,v)\n",
    "\n",
    "\n",
    "my_fun(name = \"x\", age= 10, location= \"z\")"
   ]
  },
  {
   "cell_type": "code",
   "execution_count": 45,
   "id": "33392d7e-4a76-4ab8-897e-dc3753a89230",
   "metadata": {},
   "outputs": [
    {
     "name": "stdout",
     "output_type": "stream",
     "text": [
      "name x\n",
      "age 10\n",
      "location z\n"
     ]
    }
   ],
   "source": [
    "dict_1 = {\"name\": \"x\", \"age\":  10, \"location\": \"z\"}\n",
    "my_fun(**dict_1)"
   ]
  },
  {
   "cell_type": "markdown",
   "id": "51377e46-f865-43e2-a056-0b4288958fed",
   "metadata": {},
   "source": [
    "# scope and namespace"
   ]
  },
  {
   "cell_type": "markdown",
   "id": "c5ef9914-cc32-40c5-8c11-fbe10e334f24",
   "metadata": {},
   "source": [
    "There are 3 namesapce\n",
    "\n",
    "1 - bulidin\n",
    "\n",
    "2- global \n",
    "\n",
    "3- local "
   ]
  },
  {
   "cell_type": "markdown",
   "id": "60dd7d9e-64e1-40f4-8ce7-7ea6c0533330",
   "metadata": {},
   "source": [
    "# lambda\n",
    "is a another way for creating function"
   ]
  },
  {
   "cell_type": "code",
   "execution_count": 52,
   "id": "907017e4-b76e-4c43-ad92-982cb8fe6125",
   "metadata": {},
   "outputs": [],
   "source": [
    "#(lambda parameter_list : expresssion)(expression values)"
   ]
  },
  {
   "cell_type": "code",
   "execution_count": 60,
   "id": "fc75f5d7-48b6-495e-8895-f1ec9b535aec",
   "metadata": {},
   "outputs": [
    {
     "name": "stdout",
     "output_type": "stream",
     "text": [
      "14\n"
     ]
    }
   ],
   "source": [
    "result = (lambda a,b : a+b)(6,8)\n",
    "print(result)"
   ]
  },
  {
   "cell_type": "code",
   "execution_count": 58,
   "id": "0cb32925-b33b-4ad7-b10a-b63a3654a622",
   "metadata": {},
   "outputs": [
    {
     "name": "stdout",
     "output_type": "stream",
     "text": [
      "9\n"
     ]
    }
   ],
   "source": [
    "square = (lambda x : x**2)(3)\n",
    "print(square)"
   ]
  },
  {
   "cell_type": "code",
   "execution_count": 71,
   "id": "3a88b9a5-3035-4f3b-a808-a66dae9b5864",
   "metadata": {},
   "outputs": [
    {
     "name": "stdout",
     "output_type": "stream",
     "text": [
      "[('x', 30), ('y', 40), ('z', 20)]\n",
      "[('z', 20), ('x', 30), ('y', 40)]\n"
     ]
    }
   ],
   "source": [
    "# good example\n",
    "friends = [(\"x\", 30), (\"y\", 40), (\"z\", 20)]\n",
    "friends.sort()\n",
    "print(friends)\n",
    "\n",
    "# if you want to sort according to numbers then here we want to use lambda function\n",
    "friends.sort(key =lambda x : x[1])\n",
    "print(friends)\n"
   ]
  },
  {
   "cell_type": "code",
   "execution_count": 75,
   "id": "347cd4ed-38c5-4918-980b-14b5e1730dd5",
   "metadata": {},
   "outputs": [
    {
     "name": "stdout",
     "output_type": "stream",
     "text": [
      "[('aa', 10), ('aaaa', 40), ('aaaaaa', 20)]\n"
     ]
    }
   ],
   "source": [
    "# if you want to sort according to length\n",
    "name = [(\"aaaaaa\", 20),(\"aaaa\", 40), (\"aa\", 10)]\n",
    "name.sort(key = lambda x  : len(x[0]))\n",
    "print(name)"
   ]
  },
  {
   "cell_type": "code",
   "execution_count": 80,
   "id": "b1782c7f-e7af-4ff2-9091-bf3215e53df7",
   "metadata": {},
   "outputs": [
    {
     "name": "stdout",
     "output_type": "stream",
     "text": [
      "[('aa', 10), ('aaaa', 40), ('aaaaaa', 20)]\n"
     ]
    }
   ],
   "source": [
    "#if you want to sort according to length\n",
    "name = [(\"aaaaaa\", 20),(\"aaaa\", 40), (\"aa\", 10)]\n",
    "name.sort(key = lambda x  : x[0].upper())\n",
    "print(name)"
   ]
  },
  {
   "cell_type": "markdown",
   "id": "76735b67-c000-45c4-86ae-6b943eb1ad1e",
   "metadata": {},
   "source": [
    "# Questions"
   ]
  },
  {
   "cell_type": "markdown",
   "id": "573482c8-751e-478d-b754-4a375e96a203",
   "metadata": {},
   "source": [
    "Write a Python function that takes a list as an argument and returns a new list with unique elements of the first list in the same order.\n",
    "Sample List : [1,2,3,3,3,3,4,5, 1, 3, 5, 5, 5]\n",
    "Unique List : [1, 2, 3, 4, 5]\n"
   ]
  },
  {
   "cell_type": "code",
   "execution_count": 84,
   "id": "96f3ec2b-15db-46c8-a20f-68d44120ba1c",
   "metadata": {},
   "outputs": [
    {
     "data": {
      "text/plain": [
       "[1, 2, 3, 4, 5]"
      ]
     },
     "execution_count": 84,
     "metadata": {},
     "output_type": "execute_result"
    }
   ],
   "source": [
    "def my_list(*args):\n",
    "    list_1 = []\n",
    "    for i in args:\n",
    "        if i not in list_1:\n",
    "            list_1.append(i)\n",
    "    return list_1 \n",
    "\n",
    "my_list(1,2,3,3,3,3,4,5, 1, 3, 5, 5, 5)"
   ]
  },
  {
   "cell_type": "markdown",
   "id": "72ecdc30-4de4-45cf-b9ee-cff1cca1ed38",
   "metadata": {},
   "source": [
    "Write a function that returns the factorial of a number n which is the function's argument."
   ]
  },
  {
   "cell_type": "code",
   "execution_count": 85,
   "id": "487425c5-2d05-43bb-a9cf-87c8ad35be53",
   "metadata": {},
   "outputs": [
    {
     "name": "stdout",
     "output_type": "stream",
     "text": [
      "3628800\n"
     ]
    }
   ],
   "source": [
    "def fact(n):\n",
    "    if n < 0:\n",
    "        print('The function\\'s argument (n) should be greater than or equal to zero.')\n",
    "    elif n == 0:\n",
    "        return 1\n",
    "    else:\n",
    "        f = 1\n",
    "        while n > 0:\n",
    "            f *= n\n",
    "            n -= 1\n",
    "        return f\n",
    "\n",
    "\n",
    "print(fact(10))\n",
    "        "
   ]
  },
  {
   "cell_type": "code",
   "execution_count": 87,
   "id": "0ac76fde-261c-42d9-9c3e-4dc7f4529590",
   "metadata": {},
   "outputs": [
    {
     "data": {
      "text/plain": [
       "True"
      ]
     },
     "execution_count": 87,
     "metadata": {},
     "output_type": "execute_result"
    }
   ],
   "source": [
    "def is_prime(n):\n",
    "    prime = True\n",
    "    if n == 1: # 1 is not a prime number, the first prime numnber is 2\n",
    "        return False\n",
    "    i = 1\n",
    "    while i < n // 2:\n",
    "        i = i + 1\n",
    "        if n % i == 0:\n",
    "            prime = False\n",
    "            break\n",
    "    return prime # returns True or False\n",
    "\n",
    "is_prime(13)"
   ]
  },
  {
   "cell_type": "code",
   "execution_count": null,
   "id": "ac065f4b-4aba-4b7e-a590-786797abc356",
   "metadata": {},
   "outputs": [],
   "source": []
  }
 ],
 "metadata": {
  "kernelspec": {
   "display_name": "Python 3 (ipykernel)",
   "language": "python",
   "name": "python3"
  },
  "language_info": {
   "codemirror_mode": {
    "name": "ipython",
    "version": 3
   },
   "file_extension": ".py",
   "mimetype": "text/x-python",
   "name": "python",
   "nbconvert_exporter": "python",
   "pygments_lexer": "ipython3",
   "version": "3.12.3"
  }
 },
 "nbformat": 4,
 "nbformat_minor": 5
}
