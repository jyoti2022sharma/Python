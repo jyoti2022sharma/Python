{
 "cells": [
  {
   "cell_type": "code",
   "execution_count": 1,
   "id": "d60202bb-735b-4ea3-8f86-02268ad23d65",
   "metadata": {},
   "outputs": [],
   "source": [
    "dict_1 = dict() # dictionary is mutable "
   ]
  },
  {
   "cell_type": "code",
   "execution_count": 58,
   "id": "796366a2-0ab7-4459-a228-bf420c62d2f1",
   "metadata": {},
   "outputs": [
    {
     "name": "stdout",
     "output_type": "stream",
     "text": [
      "ani\n",
      "True\n",
      "True\n",
      "True\n"
     ]
    }
   ],
   "source": [
    "dict_1 = {\"name\": \"ani\", \"age\" : 20}\n",
    "print(dict_1[\"name\"])\n",
    "print(\"name\" in dict_1)\n",
    "print(\"name\" in dict_1.keys())\n",
    "print((\"name\",\"ani\") in dict_1.items()) # i gave (name and ani inside tuple)\n"
   ]
  },
  {
   "cell_type": "code",
   "execution_count": 31,
   "id": "c61686de-4e84-436b-a820-f8ac316c457c",
   "metadata": {},
   "outputs": [
    {
     "data": {
      "text/plain": [
       "{'name': 'ani', 'age': 20, 'location': 'nj'}"
      ]
     },
     "execution_count": 31,
     "metadata": {},
     "output_type": "execute_result"
    }
   ],
   "source": [
    "# if you want to add new key with location\n",
    "dict_1[\"location\"]  = \"nj\"\n",
    "dict_1"
   ]
  },
  {
   "cell_type": "code",
   "execution_count": 32,
   "id": "aa6a4c10-4930-410d-bb12-72a817f7a281",
   "metadata": {},
   "outputs": [
    {
     "data": {
      "text/plain": [
       "20"
      ]
     },
     "execution_count": 32,
     "metadata": {},
     "output_type": "execute_result"
    }
   ],
   "source": [
    "# another way to extarct the value is by using get\n",
    "value = dict_1.get(\"age\", \"key does not exist\")\n",
    "value"
   ]
  },
  {
   "cell_type": "code",
   "execution_count": 33,
   "id": "da635a6a-31a9-4f20-8d36-98d1e77a7b78",
   "metadata": {},
   "outputs": [
    {
     "data": {
      "text/plain": [
       "'key does not exist'"
      ]
     },
     "execution_count": 33,
     "metadata": {},
     "output_type": "execute_result"
    }
   ],
   "source": [
    "# if key is not existing the second varibale will be prited\n",
    "value = dict_1.get(\"agee\", \"key does not exist\")\n",
    "value"
   ]
  },
  {
   "cell_type": "code",
   "execution_count": 34,
   "id": "a7b19e7a-6b8e-4316-b512-9d1cdc9a0c72",
   "metadata": {},
   "outputs": [
    {
     "data": {
      "text/plain": [
       "{'age': 20, 'location': 'nj'}"
      ]
     },
     "execution_count": 34,
     "metadata": {},
     "output_type": "execute_result"
    }
   ],
   "source": [
    "# if you want to remove the key value pair, we can use del method\n",
    "del dict_1[\"name\"]\n",
    "dict_1\n"
   ]
  },
  {
   "cell_type": "code",
   "execution_count": 42,
   "id": "213077a7-eba3-449a-b7c4-d017e145d757",
   "metadata": {},
   "outputs": [
    {
     "data": {
      "text/plain": [
       "4"
      ]
     },
     "execution_count": 42,
     "metadata": {},
     "output_type": "execute_result"
    }
   ],
   "source": [
    "library = {\"Science\": {\"Physics\": {\"Quantum Mechanics\": { \"author\": \"David J. Griffiths\",\"year\": 1995,\"copies\": [4,3,2]}}}}\n",
    " # if you want to access 4\n",
    "library[\"Science\"][\"Physics\"][\"Quantum Mechanics\"][\"copies\"][0]       "
   ]
  },
  {
   "cell_type": "code",
   "execution_count": 45,
   "id": "4079d430-1565-4ecc-b10a-f2ee2d365996",
   "metadata": {},
   "outputs": [
    {
     "name": "stdout",
     "output_type": "stream",
     "text": [
      "Alice\n"
     ]
    }
   ],
   "source": [
    "list_of_dictionaries = [{ \"name\": \"Alice\",  \"age\": 30, \"city\": \"New York\" }, {\"name\": \"Bob\", \"age\": 25, \"city\": \"Los Angeles\"}]\n",
    "print(list_of_dictionaries[0][\"name\"])\n"
   ]
  },
  {
   "cell_type": "code",
   "execution_count": 47,
   "id": "81920fa2-71f9-4d31-b0aa-50e955ede3f1",
   "metadata": {},
   "outputs": [
    {
     "name": "stdout",
     "output_type": "stream",
     "text": [
      "{'name': 'ani', 'age': 20} {'name': 'ani', 'age': 20, 'location': 'nj'}\n"
     ]
    }
   ],
   "source": [
    "# copy\n",
    "dict_1 = {\"name\": \"ani\", \"age\" : 20}\n",
    "dict_2 = dict_1.copy()\n",
    "dict_2[\"location\"]= \"nj\"\n",
    "print(dict_1, dict_2)"
   ]
  },
  {
   "cell_type": "code",
   "execution_count": null,
   "id": "5a5f94e4-63af-4f6c-bb06-7f6ed354b018",
   "metadata": {},
   "outputs": [],
   "source": [
    "# accessing keys, value all together"
   ]
  },
  {
   "cell_type": "code",
   "execution_count": 49,
   "id": "abf01fe0-d363-4d26-abb5-9cb52b68da27",
   "metadata": {},
   "outputs": [
    {
     "data": {
      "text/plain": [
       "dict_keys(['name', 'age', 'location'])"
      ]
     },
     "execution_count": 49,
     "metadata": {},
     "output_type": "execute_result"
    }
   ],
   "source": [
    "dict_2.keys()"
   ]
  },
  {
   "cell_type": "code",
   "execution_count": 51,
   "id": "122ea58d-6843-413e-a66f-90f1a49187b3",
   "metadata": {},
   "outputs": [
    {
     "data": {
      "text/plain": [
       "dict_values(['ani', 20, 'nj'])"
      ]
     },
     "execution_count": 51,
     "metadata": {},
     "output_type": "execute_result"
    }
   ],
   "source": [
    "dict_2.values()"
   ]
  },
  {
   "cell_type": "code",
   "execution_count": 52,
   "id": "200864bf-c809-4935-a3d6-fce48a5ce671",
   "metadata": {},
   "outputs": [
    {
     "data": {
      "text/plain": [
       "dict_items([('name', 'ani'), ('age', 20), ('location', 'nj')])"
      ]
     },
     "execution_count": 52,
     "metadata": {},
     "output_type": "execute_result"
    }
   ],
   "source": [
    "dict_2.items()"
   ]
  },
  {
   "cell_type": "code",
   "execution_count": 62,
   "id": "91731d62-8196-47a1-ac69-5ad89b4cf0df",
   "metadata": {},
   "outputs": [
    {
     "name": "stdout",
     "output_type": "stream",
     "text": [
      "the key is name\n",
      "the key is age\n",
      "the value is age\n",
      "the value is age\n",
      "the key is name and value is ani\n",
      "the key is age and value is 20\n"
     ]
    }
   ],
   "source": [
    "# iteration\n",
    "dict_1 = {\"name\": \"ani\", \"age\" : 20}\n",
    "for k in dict_1.keys():\n",
    "    print(f\"the key is {k}\")\n",
    "for v in dict_1.values():\n",
    "    print(f\"the value is {k}\")\n",
    "for k,v in dict_1.items():\n",
    "    print(f\"the key is {k} and value is {v}\")    "
   ]
  },
  {
   "cell_type": "code",
   "execution_count": 5,
   "id": "2fe52761-82bc-4ef2-bc96-09b35dcb3588",
   "metadata": {},
   "outputs": [
    {
     "data": {
      "text/plain": [
       "[1, 2, 3, 4, 5]"
      ]
     },
     "execution_count": 5,
     "metadata": {},
     "output_type": "execute_result"
    }
   ],
   "source": [
    "#reate a Python script that removes all the elements of a list that are duplicates.\n",
    "list_1 = [1,2,3,1,4,5,1,2]\n",
    "set_1 = set(list_1)\n",
    "set_1\n",
    "list_2 = list(set_1)\n",
    "list_2"
   ]
  },
  {
   "cell_type": "code",
   "execution_count": 7,
   "id": "621f5b91-a31b-4d66-9458-2d28b52f92cb",
   "metadata": {},
   "outputs": [
    {
     "name": "stdout",
     "output_type": "stream",
     "text": [
      "{'Python': 6, 'Java': 4, 'C++': 3, 'Golang': 6, 'Solidity': 8, 'Bash': 4}\n"
     ]
    }
   ],
   "source": [
    "#Consider a list of words (strings). Write a Python script that generates a dictionary where the key is the word in the list and the value is its length.\n",
    "words = ['Python', 'Java', 'C++', 'Golang', 'Solidity', 'Bash']\n",
    "\n",
    "words_and_length = dict()\n",
    "\n",
    "for w in words:\n",
    "    words_and_length[w] = len(w)\n",
    "\n",
    "print(words_and_length)"
   ]
  },
  {
   "cell_type": "code",
   "execution_count": 9,
   "id": "5bdfa7c2-b85a-452c-9d2a-255e40805ab7",
   "metadata": {},
   "outputs": [
    {
     "name": "stdout",
     "output_type": "stream",
     "text": [
      "a -> 3\n",
      "b -> 0\n",
      "c -> 2\n",
      "x -> 5\n"
     ]
    }
   ],
   "source": [
    "# Considering the following dict, get a dict representation sorted by key.\n",
    "# d1 = {'x': 5, 'a': 3, 'c': 2, 'b': 0}\n",
    "# A dict representation means viewing or printing the dict.\n",
    "d1 = {'x': 5, 'a': 3, 'c': 2, 'b': 0}\n",
    "\n",
    "for k in sorted(d1.keys()):\n",
    "    print(f'{k} -> {d1[k]}')"
   ]
  },
  {
   "cell_type": "code",
   "execution_count": 19,
   "id": "3a8139dc-ed4f-4e13-86be-74eea6e24670",
   "metadata": {},
   "outputs": [
    {
     "name": "stdout",
     "output_type": "stream",
     "text": [
      "{'Diana': ('NYC', 3500, 31), 'John': ('London', 4000, 28), 'Maria': ('Zagreb', 3800, 40)}\n"
     ]
    }
   ],
   "source": [
    "employees = {'John': ('London', 4000, 28), 'Maria': ('Zagreb', 3800, 40), 'Diana': ('NYC', 3500, 31)}\n",
    "# The output should be: [('Diana', ('NYC', 3500, 31)), ('Maria', ('Zagreb', 3800, 40)), ('John', ('London', 4000, 28))]\n",
    "\n",
    "output = {}\n",
    "for k,v in sorted(employees.items()):\n",
    "    output[k] = v\n",
    "print(output)    "
   ]
  },
  {
   "cell_type": "code",
   "execution_count": 20,
   "id": "b7bffc2b-9582-4d03-8225-77a764598abc",
   "metadata": {},
   "outputs": [
    {
     "name": "stdout",
     "output_type": "stream",
     "text": [
      "{'Maria': ('Zagreb', 3800, 40), 'John': ('London', 4000, 28), 'Diana': ('NYC', 3500, 31)}\n"
     ]
    }
   ],
   "source": [
    "employees = {'John': ('London', 4000, 28), 'Maria': ('Zagreb', 3800, 40), 'Diana': ('NYC', 3500, 31)}\n",
    "# The output should be: [('Maria', ('Zagreb', 3800, 40)), ('Diana', ('NYC', 3500, 31)), ('John', ('London', 4000, 28))]\n",
    "output = {}\n",
    "for k,v in sorted(employees.items(), reverse = True):\n",
    "        output[k] = v\n",
    "print(output) "
   ]
  },
  {
   "cell_type": "code",
   "execution_count": 26,
   "id": "8575e750-33dd-4e61-8264-6fd44ec8d90a",
   "metadata": {},
   "outputs": [
    {
     "name": "stdout",
     "output_type": "stream",
     "text": [
      "['SAINT HELENA, ASCENSION AND TRISTAN DA CUNHA', 'SOUTH GEORGIA AND THE SOUTH SANDWICH ISLANDS']\n"
     ]
    }
   ],
   "source": [
    "COUNTRY = {\n",
    "\"MX\":\"MEXICO\",\n",
    "\"RW\":\"RWANDA\",\n",
    "\"BI\":\"BURUNDI\",\n",
    "\"PR\":\"PUERTO RICO\",\n",
    "\"GM\":\"GAMBIA\",\n",
    "\"SR\":\"SURINAME\",\n",
    "\"KG\":\"KYRGYZSTAN\",\n",
    "\"GA\":\"GABON\",\n",
    "\"CK\":\"COOK ISLANDS\",\n",
    "\"VN\":\"VIET NAM\",\n",
    "\"UZ\":\"UZBEKISTAN\",\n",
    "\"BG\":\"BULGARIA\",\n",
    "\"JP\":\"JAPAN\",\n",
    "\"KP\":\"KOREA, DEMOCRATIC PEOPLE'S REPUBLIC OF\",\n",
    "\"PL\":\"POLAND\",\n",
    "\"BB\":\"BARBADOS\",\n",
    "\"CF\":\"CENTRAL AFRICAN REPUBLIC\",\n",
    "\"GI\":\"GIBRALTAR\",\n",
    "\"AE\":\"UNITED ARAB EMIRATES\",\n",
    "\"MY\":\"MALAYSIA\",\n",
    "\"KI\":\"KIRIBATI\",\n",
    "\"RU\":\"RUSSIAN FEDERATION\",\n",
    "\"MQ\":\"MARTINIQUE\",\n",
    "\"SB\":\"SOLOMON ISLANDS\",\n",
    "\"TL\":\"TIMOR-LESTE\",\n",
    "\"VI\":\"VIRGIN ISLANDS, U.S.\",\n",
    "\"FR\":\"FRANCE\",\n",
    "\"ZA\":\"SOUTH AFRICA\",\n",
    "\"NE\":\"NIGER\",\n",
    "\"IE\":\"IRELAND\",\n",
    "\"MG\":\"MADAGASCAR\",\n",
    "\"TC\":\"TURKS AND CAICOS ISLANDS\",\n",
    "\"BW\":\"BOTSWANA\",\n",
    "\"KY\":\"CAYMAN ISLANDS\",\n",
    "\"JO\":\"JORDAN\",\n",
    "\"MR\":\"MAURITANIA\",\n",
    "\"NI\":\"NICARAGUA\",\n",
    "\"KM\":\"COMOROS\",\n",
    "\"FK\":\"FALKLAND ISLANDS (MALVINAS)\",\n",
    "\"SH\":\"SAINT HELENA, ASCENSION AND TRISTAN DA CUNHA\",\n",
    "\"PF\":\"FRENCH POLYNESIA\",\n",
    "\"DK\":\"DENMARK\",\n",
    "\"PT\":\"PORTUGAL\",\n",
    "\"NR\":\"NAURU\",\n",
    "\"DM\":\"DOMINICA\",\n",
    "\"GH\":\"GHANA\",\n",
    "\"GP\":\"GUADELOUPE\",\n",
    "\"CU\":\"CUBA\",\n",
    "\"GR\":\"GREECE\",\n",
    "\"AS\":\"AMERICAN SAMOA\",\n",
    "\"AI\":\"ANGUILLA\",\n",
    "\"LS\":\"LESOTHO\",\n",
    "\"TJ\":\"TAJIKISTAN\",\n",
    "\"AW\":\"ARUBA\",\n",
    "\"GY\":\"GUYANA\",\n",
    "\"LC\":\"SAINT LUCIA\",\n",
    "\"GG\":\"GUERNSEY\",\n",
    "\"TG\":\"TOGO\",\n",
    "\"OM\":\"OMAN\",\n",
    "\"NL\":\"NETHERLANDS\",\n",
    "\"MT\":\"MALTA\",\n",
    "\"MD\":\"MOLDOVA, REPUBLIC OF\",\n",
    "\"EC\":\"ECUADOR\",\n",
    "\"FM\":\"MICRONESIA, FEDERATED STATES OF\",\n",
    "\"CA\":\"CANADA\",\n",
    "\"TT\":\"TRINIDAD AND TOBAGO\",\n",
    "\"CN\":\"CHINA\",\n",
    "\"CM\":\"CAMEROON\",\n",
    "\"BD\":\"BANGLADESH\",\n",
    "\"LK\":\"SRI LANKA\",\n",
    "\"CO\":\"COLOMBIA\",\n",
    "\"LT\":\"LITHUANIA\",\n",
    "\"DJ\":\"DJIBOUTI\",\n",
    "\"CX\":\"CHRISTMAS ISLAND\",\n",
    "\"TF\":\"FRENCH SOUTHERN TERRITORIES\",\n",
    "\"TM\":\"TURKMENISTAN\",\n",
    "\"SC\":\"SEYCHELLES\",\n",
    "\"MK\":\"MACEDONIA, THE FORMER YUGOSLAV REPUBLIC OF\",\n",
    "\"TH\":\"THAILAND\",\n",
    "\"LA\":\"LAO PEOPLE'S DEMOCRATIC REPUBLIC\",\n",
    "\"BE\":\"BELGIUM\",\n",
    "\"UY\":\"URUGUAY\",\n",
    "\"MV\":\"MALDIVES\",\n",
    "\"SZ\":\"SWAZILAND\",\n",
    "\"MN\":\"MONGOLIA\",\n",
    "\"PK\":\"PAKISTAN\",\n",
    "\"BZ\":\"BELIZE\",\n",
    "\"AT\":\"AUSTRIA\",\n",
    "\"WF\":\"WALLIS AND FUTUNA\",\n",
    "\"GD\":\"GRENADA\",\n",
    "\"RO\":\"ROMANIA\",\n",
    "\"SJ\":\"SVALBARD AND JAN MAYEN\",\n",
    "\"CV\":\"CAPE VERDE\",\n",
    "\"UG\":\"UGANDA\",\n",
    "\"CR\":\"COSTA RICA\",\n",
    "\"HM\":\"HEARD ISLAND AND MCDONALD ISLANDS\",\n",
    "\"TN\":\"TUNISIA\",\n",
    "\"MC\":\"MONACO\",\n",
    "\"MP\":\"NORTHERN MARIANA ISLANDS\",\n",
    "\"SN\":\"SENEGAL\",\n",
    "\"PW\":\"PALAU\",\n",
    "\"VC\":\"SAINT VINCENT AND THE GRENADINES\",\n",
    "\"ST\":\"SAO TOME AND PRINCIPE\",\n",
    "\"DO\":\"DOMINICAN REPUBLIC\",\n",
    "\"EG\":\"EGYPT\",\n",
    "\"TZ\":\"TANZANIA, UNITED REPUBLIC OF\",\n",
    "\"SV\":\"EL SALVADOR\",\n",
    "\"TR\":\"TURKEY\",\n",
    "\"SG\":\"SINGAPORE\",\n",
    "\"UM\":\"UNITED STATES MINOR OUTLYING ISLANDS\",\n",
    "\"KR\":\"KOREA, REPUBLIC OF\",\n",
    "\"PG\":\"PAPUA NEW GUINEA\",\n",
    "\"GQ\":\"EQUATORIAL GUINEA\",\n",
    "\"US\":\"UNITED STATES\",\n",
    "\"BF\":\"BURKINA FASO\",\n",
    "\"AM\":\"ARMENIA\",\n",
    "\"TD\":\"CHAD\",\n",
    "\"NP\":\"NEPAL\",\n",
    "\"IT\":\"ITALY\",\n",
    "\"IO\":\"BRITISH INDIAN OCEAN TERRITORY\",\n",
    "\"ZW \":\"ZIMBABWE\",\n",
    "\"HU\":\"HUNGARY\",\n",
    "\"BR\":\"BRAZIL\",\n",
    "\"IN\":\"INDIA\",\n",
    "\"PH\":\"PHILIPPINES\",\n",
    "\"TW\":\"TAIWAN, PROVINCE OF CHINA\",\n",
    "\"AO\":\"ANGOLA\",\n",
    "\"MH\":\"MARSHALL ISLANDS\",\n",
    "\"NO\":\"NORWAY\",\n",
    "\"JE\":\"JERSEY\",\n",
    "\"VU\":\"VANUATU\",\n",
    "\"EE\":\"ESTONIA\",\n",
    "\"AF\":\"AFGHANISTAN\",\n",
    "\"AX\":\"ALAND ISLANDS\",\n",
    "\"GN\":\"GUINEA\",\n",
    "\"FO\":\"FAROE ISLANDS\",\n",
    "\"SE\":\"SWEDEN\",\n",
    "\"SL\":\"SIERRA LEONE\",\n",
    "\"LB\":\"LEBANON\",\n",
    "\"MO\":\"MACAO\",\n",
    "\"IR\":\"IRAN, ISLAMIC REPUBLIC OF\",\n",
    "\"CG\":\"CONGO\",\n",
    "\"SM\":\"SAN MARINO\",\n",
    "\"NA\":\"NAMIBIA\",\n",
    "\"CI\":\"COTE D'IVOIRE\",\n",
    "\"GL\":\"GREENLAND\",\n",
    "\"VE\":\"VENEZUELA, BOLIVARIAN REPUBLIC OF\",\n",
    "\"VG\":\"VIRGIN ISLANDS, BRITISH\",\n",
    "\"BH\":\"BAHRAIN\",\n",
    "\"ZM\":\"ZAMBIA\",\n",
    "\"HR\":\"CROATIA\",\n",
    "\"MZ\":\"MOZAMBIQUE\",\n",
    "\"KW\":\"KUWAIT\",\n",
    "\"MA\":\"MOROCCO\",\n",
    "\"DZ\":\"ALGERIA\",\n",
    "\"AQ\":\"ANTARCTICA\",\n",
    "\"AU\":\"AUSTRALIA\",\n",
    "\"PN\":\"PITCAIRN\",\n",
    "\"QA\":\"QATAR\",\n",
    "\"AL\":\"ALBANIA\",\n",
    "\"BN\":\"BRUNEI DARUSSALAM\",\n",
    "\"NZ\":\"NEW ZEALAND\",\n",
    "\"SA\":\"SAUDI ARABIA\",\n",
    "\"RE\":\"REUNION\",\n",
    "\"HK\":\"HONG KONG\",\n",
    "\"CD\":\"CONGO, THE DEMOCRATIC REPUBLIC OF THE\",\n",
    "\"MW\":\"MALAWI\",\n",
    "\"CZ\":\"CZECH REPUBLIC\",\n",
    "\"DE\":\"GERMANY\",\n",
    "\"AD\":\"ANDORRA\",\n",
    "\"LU\":\"LUXEMBOURG\",\n",
    "\"CY\":\"CYPRUS\",\n",
    "\"TO\":\"TONGA\",\n",
    "\"FJ\":\"FIJI\",\n",
    "\"GT\":\"GUATEMALA\",\n",
    "\"LV\":\"LATVIA\",\n",
    "\"ES\":\"SPAIN\",\n",
    "\"SI\":\"SLOVENIA\",\n",
    "\"IM\":\"ISLE OF MAN\",\n",
    "\"BS\":\"BAHAMAS\",\n",
    "\"RS\":\"SERBIA\",\n",
    "\"WS\":\"SAMOA\",\n",
    "\"NC\":\"NEW CALEDONIA\",\n",
    "\"SY\":\"SYRIAN ARAB REPUBLIC\",\n",
    "\"MS\":\"MONTSERRAT\",\n",
    "\"GB\":\"UNITED KINGDOM\",\n",
    "\"PM\":\"SAINT PIERRE AND MIQUELON\",\n",
    "\"CL\":\"CHILE\",\n",
    "\"MF\":\"SAINT MARTIN\",\n",
    "\"SO\":\"SOMALIA\",\n",
    "\"BJ\":\"BENIN\",\n",
    "\"YE\":\"YEMEN\",\n",
    "\"TV\":\"TUVALU\",\n",
    "\"GE\":\"GEORGIA\",\n",
    "\"BM\":\"BERMUDA\",\n",
    "\"GS\":\"SOUTH GEORGIA AND THE SOUTH SANDWICH ISLANDS\",\n",
    "\"AN\":\"NETHERLANDS ANTILLES\",\n",
    "\"BY\":\"BELARUS\",\n",
    "\"FI\":\"FINLAND\",\n",
    "\"BV\":\"BOUVET ISLAND\",\n",
    "\"LR\":\"LIBERIA\",\n",
    "\"KH\":\"CAMBODIA\",\n",
    "\"LY\":\"LIBYAN ARAB JAMAHIRIYA\",\n",
    "\"MU\":\"MAURITIUS\",\n",
    "\"GU\":\"GUAM\",\n",
    "\"ER\":\"ERITREA\",\n",
    "\"LI\":\"LIECHTENSTEIN\",\n",
    "\"SD\":\"SUDAN\",\n",
    "\"PA\":\"PANAMA\",\n",
    "\"IL\":\"ISRAEL\",\n",
    "\"EH\":\"WESTERN SAHARA\",\n",
    "\"KE\":\"KENYA\",\n",
    "\"CC\":\"COCOS (KEELING) ISLANDS\",\n",
    "\"IS\":\"ICELAND\",\n",
    "\"GF\":\"FRENCH GUIANA\",\n",
    "\"MM\":\"MYANMAR\",\n",
    "\"HT\":\"HAITI\",\n",
    "\"NF\":\"NORFOLK ISLAND\",\n",
    "\"ML\":\"MALI\",\n",
    "\"PY\":\"PARAGUAY\",\n",
    "\"KZ\":\"KAZAKHSTAN\",\n",
    "\"CH\":\"SWITZERLAND\",\n",
    "\"BA\":\"BOSNIA AND HERZEGOVINA\",\n",
    "\"BO\":\"BOLIVIA, PLURINATIONAL STATE OF\",\n",
    "\"UA\":\"UKRAINE\",\n",
    "\"BL\":\"SAINT BARTHELEMY\",\n",
    "\"AZ\":\"AZERBAIJAN\",\n",
    "\"BT\":\"BHUTAN\",\n",
    "\"VA\":\"HOLY SEE (VATICAN CITY STATE)\",\n",
    "\"PE\":\"PERU\",\n",
    "\"AR\":\"ARGENTINA\",\n",
    "\"TK\":\"TOKELAU\",\n",
    "\"AG\":\"ANTIGUA AND BARBUDA\",\n",
    "\"KN\":\"SAINT KITTS AND NEVIS\",\n",
    "\"PS\":\"PALESTINIAN TERRITORY, OCCUPIED\",\n",
    "\"ID\":\"INDONESIA\",\n",
    "\"GW\":\"GUINEA-BISSAU\",\n",
    "\"HN\":\"HONDURAS\",\n",
    "\"NG\":\"NIGERIA\",\n",
    "\"IQ\":\"IRAQ\",\n",
    "\"JM\":\"JAMAICA\",\n",
    "\"NU\":\"NIUE\",\n",
    "\"ET\":\"ETHIOPIA\",\n",
    "\"ME\":\"MONTENEGRO\",\n",
    "\"SK\":\"SLOVAKIA\",\n",
    "\"YT\":\"MAYOTTE\"\n",
    "}\n",
    "\n",
    "# list with the lengths of each countries\n",
    "lengths = [len(value) for value in COUNTRY.values()]\n",
    "# print(lengths)\n",
    "m = max(lengths)  # the longest country name\n",
    "#print(m)\n",
    "cc = [c for c in COUNTRY.values() if len(c) == m]\n",
    "print(cc)"
   ]
  },
  {
   "cell_type": "code",
   "execution_count": 30,
   "id": "4da22572-3a77-4a7d-872a-2762aebb764d",
   "metadata": {},
   "outputs": [
    {
     "name": "stdout",
     "output_type": "stream",
     "text": [
      "[(2015, 350000), (2016, 400000), (2017, 410000), (2018, 439000), (2019, 500000), (2020, 290000)]\n"
     ]
    }
   ],
   "source": [
    "# Create a new list that connects the year to the corresponding sales.\n",
    "# The resulting list should be: [(2015, 350000), (2016, 400000), (2017, 410000), (2018, 439000), (2019, 500000), (2020, 290000)]\n",
    "years = [2015, 2016, 2017, 2018, 2019, 2020]\n",
    "sales = [350000, 400000, 410000, 439000, 500000, 290000]\n",
    "\n",
    "company_sales = list(zip(years,sales))\n",
    "print(company_sales)\n"
   ]
  },
  {
   "cell_type": "code",
   "execution_count": 32,
   "id": "ddaef6e8-fc6c-4066-939e-3a02c4e04660",
   "metadata": {},
   "outputs": [
    {
     "ename": "TypeError",
     "evalue": "'dict' object is not callable",
     "output_type": "error",
     "traceback": [
      "\u001b[0;31m---------------------------------------------------------------------------\u001b[0m",
      "\u001b[0;31mTypeError\u001b[0m                                 Traceback (most recent call last)",
      "Cell \u001b[0;32mIn[32], line 6\u001b[0m\n\u001b[1;32m      2\u001b[0m sales \u001b[38;5;241m=\u001b[39m [\u001b[38;5;241m350000\u001b[39m, \u001b[38;5;241m400000\u001b[39m, \u001b[38;5;241m410000\u001b[39m, \u001b[38;5;241m439000\u001b[39m, \u001b[38;5;241m500000\u001b[39m, \u001b[38;5;241m290000\u001b[39m]\n\u001b[1;32m      4\u001b[0m \u001b[38;5;66;03m# Use the zip function to pair the years and sales lists\u001b[39;00m\n\u001b[1;32m      5\u001b[0m \u001b[38;5;66;03m# Then convert the result into a dictionary\u001b[39;00m\n\u001b[0;32m----> 6\u001b[0m sales_dict \u001b[38;5;241m=\u001b[39m \u001b[38;5;28;43mdict\u001b[39;49m\u001b[43m(\u001b[49m\u001b[38;5;28;43mzip\u001b[39;49m\u001b[43m(\u001b[49m\u001b[43myears\u001b[49m\u001b[43m,\u001b[49m\u001b[43m \u001b[49m\u001b[43msales\u001b[49m\u001b[43m)\u001b[49m\u001b[43m)\u001b[49m\n\u001b[1;32m      8\u001b[0m \u001b[38;5;66;03m# Print the resulting dictionary\u001b[39;00m\n\u001b[1;32m      9\u001b[0m \u001b[38;5;28mprint\u001b[39m(sales_dict)\n",
      "\u001b[0;31mTypeError\u001b[0m: 'dict' object is not callable"
     ]
    }
   ],
   "source": [
    "years = [2015, 2016, 2017, 2018, 2019, 2020]\n",
    "sales = [350000, 400000, 410000, 439000, 500000, 290000]\n",
    "\n",
    "# Use the zip function to pair the years and sales lists\n",
    "# Then convert the result into a dictionary\n",
    "sales_dict = dict(zip(years, sales))\n",
    "\n",
    "# Print the resulting dictionary\n",
    "print(sales_dict)\n"
   ]
  },
  {
   "cell_type": "code",
   "execution_count": 41,
   "id": "81414f21-4937-4b73-883d-1694e3a61669",
   "metadata": {},
   "outputs": [
    {
     "data": {
      "text/plain": [
       "[(2015, 87500.0),\n",
       " (2016, 100000.0),\n",
       " (2017, 102500.0),\n",
       " (2018, 109750.0),\n",
       " (2019, 125000.0),\n",
       " (2020, 72500.0)]"
      ]
     },
     "execution_count": 41,
     "metadata": {},
     "output_type": "execute_result"
    }
   ],
   "source": [
    "# Create a new dictionary called profit that stores the profit of the company, if the profit margin is 25% of the sales.\n",
    "# Use dictionary comprehension if possible.\n",
    "years = [2015, 2016, 2017, 2018, 2019, 2020]\n",
    "sales = [350000, 400000, 410000, 439000, 500000, 290000]\n",
    "profit = []\n",
    "\n",
    "for i in range(len(sales)):  # Iterate through the indices of sales\n",
    "    # Calculate the profit for each sale and append it to the profit list\n",
    "     profit.append(0.25 * sales[i])\n",
    "\n",
    "\n",
    "sales_dict = list(zip(years, profit))    \n",
    "sales_dict"
   ]
  },
  {
   "cell_type": "code",
   "execution_count": null,
   "id": "7e60edeb-8fcb-42d1-a50b-75792dca0ab5",
   "metadata": {},
   "outputs": [],
   "source": []
  }
 ],
 "metadata": {
  "kernelspec": {
   "display_name": "Python 3 (ipykernel)",
   "language": "python",
   "name": "python3"
  },
  "language_info": {
   "codemirror_mode": {
    "name": "ipython",
    "version": 3
   },
   "file_extension": ".py",
   "mimetype": "text/x-python",
   "name": "python",
   "nbconvert_exporter": "python",
   "pygments_lexer": "ipython3",
   "version": "3.12.3"
  }
 },
 "nbformat": 4,
 "nbformat_minor": 5
}
